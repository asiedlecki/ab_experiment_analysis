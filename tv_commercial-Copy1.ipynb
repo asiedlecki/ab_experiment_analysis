{
 "cells": [
  {
   "cell_type": "code",
   "execution_count": 1,
   "metadata": {},
   "outputs": [
    {
     "data": {
      "text/html": [
       "<style>.container { width:75% !important; }</style>"
      ],
      "text/plain": [
       "<IPython.core.display.HTML object>"
      ]
     },
     "metadata": {},
     "output_type": "display_data"
    }
   ],
   "source": [
    "from IPython.core.display import display, HTML\n",
    "display(HTML(\"<style>.container { width:75% !important; }</style>\"))"
   ]
  },
  {
   "cell_type": "code",
   "execution_count": 2,
   "metadata": {},
   "outputs": [
    {
     "data": {
      "text/plain": [
       "'/home/oem/spark'"
      ]
     },
     "execution_count": 2,
     "metadata": {},
     "output_type": "execute_result"
    }
   ],
   "source": [
    "import findspark\n",
    "findspark.find()"
   ]
  },
  {
   "cell_type": "code",
   "execution_count": 3,
   "metadata": {},
   "outputs": [],
   "source": [
    "from pyspark.sql.session import SparkSession\n",
    "from pyspark.sql.types import *\n",
    "# from pyspark import StorageLevel\n",
    "from pyspark.sql import Window\n",
    "from pyspark.sql import functions as f\n",
    "# from pyspark.sql import SQLContext\n",
    "# from pyspark import SparkContext\n",
    "\n",
    "import pandas as pd\n",
    "import math\n",
    "import numpy as np\n",
    "import scipy\n",
    "from scipy.stats import chi2_contingency"
   ]
  },
  {
   "cell_type": "code",
   "execution_count": 4,
   "metadata": {},
   "outputs": [
    {
     "name": "stderr",
     "output_type": "stream",
     "text": [
      "21/08/19 00:41:17 WARN Utils: Your hostname, as-ubuntu resolves to a loopback address: 127.0.1.1; using 192.168.8.107 instead (on interface wlp2s0)\n",
      "21/08/19 00:41:17 WARN Utils: Set SPARK_LOCAL_IP if you need to bind to another address\n",
      "21/08/19 00:41:17 WARN NativeCodeLoader: Unable to load native-hadoop library for your platform... using builtin-java classes where applicable\n",
      "Using Spark's default log4j profile: org/apache/spark/log4j-defaults.properties\n",
      "Setting default log level to \"WARN\".\n",
      "To adjust logging level use sc.setLogLevel(newLevel). For SparkR, use setLogLevel(newLevel).\n"
     ]
    },
    {
     "name": "stdout",
     "output_type": "stream",
     "text": [
      "http://localhost:4040\n"
     ]
    }
   ],
   "source": [
    "spark = (SparkSession.builder\n",
    "         .appName('ab_experiment')\n",
    "         .config('spark.executor.cores', 1)\n",
    "         .getOrCreate()\n",
    "        )\n",
    "print('http://localhost:4040')"
   ]
  },
  {
   "cell_type": "code",
   "execution_count": 5,
   "metadata": {},
   "outputs": [],
   "source": [
    "test_data_pd = pd.read_csv('datasets/test_data.csv')\n",
    "viewer_data_pd = pd.read_csv('datasets/viewer_data.csv')"
   ]
  },
  {
   "cell_type": "code",
   "execution_count": 6,
   "metadata": {},
   "outputs": [
    {
     "data": {
      "text/html": [
       "<div>\n",
       "<style scoped>\n",
       "    .dataframe tbody tr th:only-of-type {\n",
       "        vertical-align: middle;\n",
       "    }\n",
       "\n",
       "    .dataframe tbody tr th {\n",
       "        vertical-align: top;\n",
       "    }\n",
       "\n",
       "    .dataframe thead th {\n",
       "        text-align: right;\n",
       "    }\n",
       "</style>\n",
       "<table border=\"1\" class=\"dataframe\">\n",
       "  <thead>\n",
       "    <tr style=\"text-align: right;\">\n",
       "      <th></th>\n",
       "      <th>viewer_id</th>\n",
       "      <th>gender</th>\n",
       "      <th>age</th>\n",
       "      <th>city</th>\n",
       "    </tr>\n",
       "  </thead>\n",
       "  <tbody>\n",
       "    <tr>\n",
       "      <th>0</th>\n",
       "      <td>1918165</td>\n",
       "      <td>Female</td>\n",
       "      <td>39</td>\n",
       "      <td>Dallas</td>\n",
       "    </tr>\n",
       "    <tr>\n",
       "      <th>1</th>\n",
       "      <td>27662619</td>\n",
       "      <td>Female</td>\n",
       "      <td>28</td>\n",
       "      <td>New York</td>\n",
       "    </tr>\n",
       "    <tr>\n",
       "      <th>2</th>\n",
       "      <td>5493662</td>\n",
       "      <td>Female</td>\n",
       "      <td>53</td>\n",
       "      <td>Detroit</td>\n",
       "    </tr>\n",
       "    <tr>\n",
       "      <th>3</th>\n",
       "      <td>14441247</td>\n",
       "      <td>Male</td>\n",
       "      <td>41</td>\n",
       "      <td>New York</td>\n",
       "    </tr>\n",
       "    <tr>\n",
       "      <th>4</th>\n",
       "      <td>25595927</td>\n",
       "      <td>Male</td>\n",
       "      <td>53</td>\n",
       "      <td>Seattle</td>\n",
       "    </tr>\n",
       "  </tbody>\n",
       "</table>\n",
       "</div>"
      ],
      "text/plain": [
       "   viewer_id  gender  age      city\n",
       "0    1918165  Female   39    Dallas\n",
       "1   27662619  Female   28  New York\n",
       "2    5493662  Female   53   Detroit\n",
       "3   14441247    Male   41  New York\n",
       "4   25595927    Male   53   Seattle"
      ]
     },
     "execution_count": 6,
     "metadata": {},
     "output_type": "execute_result"
    }
   ],
   "source": [
    "viewer_data_pd.head()"
   ]
  },
  {
   "cell_type": "code",
   "execution_count": 7,
   "metadata": {},
   "outputs": [
    {
     "data": {
      "text/plain": [
       "viewer_id    417464\n",
       "gender       417464\n",
       "age          417464\n",
       "city         417464\n",
       "dtype: int64"
      ]
     },
     "execution_count": 7,
     "metadata": {},
     "output_type": "execute_result"
    }
   ],
   "source": [
    "viewer_data_pd.count()"
   ]
  },
  {
   "cell_type": "code",
   "execution_count": 8,
   "metadata": {},
   "outputs": [
    {
     "data": {
      "text/plain": [
       "viewer_id    417464\n",
       "gender       417464\n",
       "age          417464\n",
       "city         417464\n",
       "dtype: int64"
      ]
     },
     "execution_count": 8,
     "metadata": {},
     "output_type": "execute_result"
    }
   ],
   "source": [
    "# any duplicates in dictionary?\n",
    "viewer_data_pd.drop_duplicates().count()"
   ]
  },
  {
   "cell_type": "code",
   "execution_count": 9,
   "metadata": {},
   "outputs": [
    {
     "data": {
      "text/html": [
       "<div>\n",
       "<style scoped>\n",
       "    .dataframe tbody tr th:only-of-type {\n",
       "        vertical-align: middle;\n",
       "    }\n",
       "\n",
       "    .dataframe tbody tr th {\n",
       "        vertical-align: top;\n",
       "    }\n",
       "\n",
       "    .dataframe thead th {\n",
       "        text-align: right;\n",
       "    }\n",
       "</style>\n",
       "<table border=\"1\" class=\"dataframe\">\n",
       "  <thead>\n",
       "    <tr style=\"text-align: right;\">\n",
       "      <th></th>\n",
       "      <th>viewer_id</th>\n",
       "      <th>date</th>\n",
       "      <th>tv_make</th>\n",
       "      <th>tv_size</th>\n",
       "      <th>uhd_capable</th>\n",
       "      <th>tv_provider</th>\n",
       "      <th>total_time_watched</th>\n",
       "      <th>watched</th>\n",
       "      <th>test</th>\n",
       "    </tr>\n",
       "  </thead>\n",
       "  <tbody>\n",
       "    <tr>\n",
       "      <th>0</th>\n",
       "      <td>24726768</td>\n",
       "      <td>2018-01-16</td>\n",
       "      <td>Sony</td>\n",
       "      <td>70</td>\n",
       "      <td>0</td>\n",
       "      <td>Comcast</td>\n",
       "      <td>10.75</td>\n",
       "      <td>0</td>\n",
       "      <td>1</td>\n",
       "    </tr>\n",
       "    <tr>\n",
       "      <th>1</th>\n",
       "      <td>25001464</td>\n",
       "      <td>2018-01-18</td>\n",
       "      <td>Sony</td>\n",
       "      <td>32</td>\n",
       "      <td>0</td>\n",
       "      <td>NaN</td>\n",
       "      <td>2.75</td>\n",
       "      <td>0</td>\n",
       "      <td>0</td>\n",
       "    </tr>\n",
       "    <tr>\n",
       "      <th>2</th>\n",
       "      <td>28291998</td>\n",
       "      <td>2018-01-18</td>\n",
       "      <td>Sony</td>\n",
       "      <td>50</td>\n",
       "      <td>1</td>\n",
       "      <td>Dish Network</td>\n",
       "      <td>20.00</td>\n",
       "      <td>0</td>\n",
       "      <td>0</td>\n",
       "    </tr>\n",
       "    <tr>\n",
       "      <th>3</th>\n",
       "      <td>17057157</td>\n",
       "      <td>2018-01-19</td>\n",
       "      <td>Sony</td>\n",
       "      <td>32</td>\n",
       "      <td>0</td>\n",
       "      <td>Comcast</td>\n",
       "      <td>1.50</td>\n",
       "      <td>0</td>\n",
       "      <td>0</td>\n",
       "    </tr>\n",
       "    <tr>\n",
       "      <th>4</th>\n",
       "      <td>29504447</td>\n",
       "      <td>2018-01-17</td>\n",
       "      <td>Sony</td>\n",
       "      <td>32</td>\n",
       "      <td>0</td>\n",
       "      <td>Comcast</td>\n",
       "      <td>17.50</td>\n",
       "      <td>0</td>\n",
       "      <td>0</td>\n",
       "    </tr>\n",
       "  </tbody>\n",
       "</table>\n",
       "</div>"
      ],
      "text/plain": [
       "   viewer_id        date tv_make  tv_size  uhd_capable   tv_provider  \\\n",
       "0   24726768  2018-01-16    Sony       70            0       Comcast   \n",
       "1   25001464  2018-01-18    Sony       32            0           NaN   \n",
       "2   28291998  2018-01-18    Sony       50            1  Dish Network   \n",
       "3   17057157  2018-01-19    Sony       32            0       Comcast   \n",
       "4   29504447  2018-01-17    Sony       32            0       Comcast   \n",
       "\n",
       "   total_time_watched  watched  test  \n",
       "0               10.75        0     1  \n",
       "1                2.75        0     0  \n",
       "2               20.00        0     0  \n",
       "3                1.50        0     0  \n",
       "4               17.50        0     0  "
      ]
     },
     "execution_count": 9,
     "metadata": {},
     "output_type": "execute_result"
    }
   ],
   "source": [
    "test_data_pd.head()"
   ]
  },
  {
   "cell_type": "code",
   "execution_count": 10,
   "metadata": {},
   "outputs": [
    {
     "data": {
      "text/plain": [
       "viewer_id             418026\n",
       "date                  418026\n",
       "tv_make               418026\n",
       "tv_size               418026\n",
       "uhd_capable           418026\n",
       "tv_provider           365306\n",
       "total_time_watched    418026\n",
       "watched               418026\n",
       "test                  418026\n",
       "dtype: int64"
      ]
     },
     "execution_count": 10,
     "metadata": {},
     "output_type": "execute_result"
    }
   ],
   "source": [
    "test_data_pd.count()"
   ]
  },
  {
   "cell_type": "code",
   "execution_count": 11,
   "metadata": {},
   "outputs": [
    {
     "data": {
      "text/plain": [
       "viewer_id             418026\n",
       "date                  418026\n",
       "tv_make               418026\n",
       "tv_size               418026\n",
       "uhd_capable           418026\n",
       "tv_provider           365306\n",
       "total_time_watched    418026\n",
       "watched               418026\n",
       "test                  418026\n",
       "dtype: int64"
      ]
     },
     "execution_count": 11,
     "metadata": {},
     "output_type": "execute_result"
    }
   ],
   "source": [
    "# any duplicates?\n",
    "test_data_pd.drop_duplicates().count()"
   ]
  },
  {
   "cell_type": "code",
   "execution_count": 12,
   "metadata": {},
   "outputs": [
    {
     "data": {
      "text/plain": [
       "viewer_id             418020\n",
       "date                       5\n",
       "tv_make                    4\n",
       "tv_size                    8\n",
       "uhd_capable                2\n",
       "tv_provider                5\n",
       "total_time_watched        95\n",
       "watched                    2\n",
       "test                       2\n",
       "dtype: int64"
      ]
     },
     "execution_count": 12,
     "metadata": {},
     "output_type": "execute_result"
    }
   ],
   "source": [
    "test_data_pd.nunique()"
   ]
  },
  {
   "cell_type": "code",
   "execution_count": 13,
   "metadata": {},
   "outputs": [
    {
     "data": {
      "text/html": [
       "<div>\n",
       "<style scoped>\n",
       "    .dataframe tbody tr th:only-of-type {\n",
       "        vertical-align: middle;\n",
       "    }\n",
       "\n",
       "    .dataframe tbody tr th {\n",
       "        vertical-align: top;\n",
       "    }\n",
       "\n",
       "    .dataframe thead th {\n",
       "        text-align: right;\n",
       "    }\n",
       "</style>\n",
       "<table border=\"1\" class=\"dataframe\">\n",
       "  <thead>\n",
       "    <tr style=\"text-align: right;\">\n",
       "      <th></th>\n",
       "      <th>viewer_id</th>\n",
       "      <th>tv_size</th>\n",
       "      <th>uhd_capable</th>\n",
       "      <th>total_time_watched</th>\n",
       "      <th>watched</th>\n",
       "      <th>test</th>\n",
       "    </tr>\n",
       "  </thead>\n",
       "  <tbody>\n",
       "    <tr>\n",
       "      <th>count</th>\n",
       "      <td>4.180260e+05</td>\n",
       "      <td>418026.000000</td>\n",
       "      <td>418026.000000</td>\n",
       "      <td>418026.000000</td>\n",
       "      <td>418026.000000</td>\n",
       "      <td>418026.000000</td>\n",
       "    </tr>\n",
       "    <tr>\n",
       "      <th>mean</th>\n",
       "      <td>1.835585e+07</td>\n",
       "      <td>51.874111</td>\n",
       "      <td>0.200858</td>\n",
       "      <td>10.039700</td>\n",
       "      <td>0.054547</td>\n",
       "      <td>0.488790</td>\n",
       "    </tr>\n",
       "    <tr>\n",
       "      <th>std</th>\n",
       "      <td>1.248317e+07</td>\n",
       "      <td>12.225413</td>\n",
       "      <td>0.400643</td>\n",
       "      <td>6.179722</td>\n",
       "      <td>0.227094</td>\n",
       "      <td>0.499875</td>\n",
       "    </tr>\n",
       "    <tr>\n",
       "      <th>min</th>\n",
       "      <td>1.000000e+04</td>\n",
       "      <td>32.000000</td>\n",
       "      <td>0.000000</td>\n",
       "      <td>0.250000</td>\n",
       "      <td>0.000000</td>\n",
       "      <td>0.000000</td>\n",
       "    </tr>\n",
       "    <tr>\n",
       "      <th>25%</th>\n",
       "      <td>7.526723e+06</td>\n",
       "      <td>40.000000</td>\n",
       "      <td>0.000000</td>\n",
       "      <td>5.000000</td>\n",
       "      <td>0.000000</td>\n",
       "      <td>0.000000</td>\n",
       "    </tr>\n",
       "    <tr>\n",
       "      <th>50%</th>\n",
       "      <td>1.838327e+07</td>\n",
       "      <td>55.000000</td>\n",
       "      <td>0.000000</td>\n",
       "      <td>9.500000</td>\n",
       "      <td>0.000000</td>\n",
       "      <td>0.000000</td>\n",
       "    </tr>\n",
       "    <tr>\n",
       "      <th>75%</th>\n",
       "      <td>2.916353e+07</td>\n",
       "      <td>65.000000</td>\n",
       "      <td>0.000000</td>\n",
       "      <td>14.500000</td>\n",
       "      <td>0.000000</td>\n",
       "      <td>1.000000</td>\n",
       "    </tr>\n",
       "    <tr>\n",
       "      <th>max</th>\n",
       "      <td>3.999992e+07</td>\n",
       "      <td>70.000000</td>\n",
       "      <td>1.000000</td>\n",
       "      <td>23.750000</td>\n",
       "      <td>1.000000</td>\n",
       "      <td>1.000000</td>\n",
       "    </tr>\n",
       "  </tbody>\n",
       "</table>\n",
       "</div>"
      ],
      "text/plain": [
       "          viewer_id        tv_size    uhd_capable  total_time_watched  \\\n",
       "count  4.180260e+05  418026.000000  418026.000000       418026.000000   \n",
       "mean   1.835585e+07      51.874111       0.200858           10.039700   \n",
       "std    1.248317e+07      12.225413       0.400643            6.179722   \n",
       "min    1.000000e+04      32.000000       0.000000            0.250000   \n",
       "25%    7.526723e+06      40.000000       0.000000            5.000000   \n",
       "50%    1.838327e+07      55.000000       0.000000            9.500000   \n",
       "75%    2.916353e+07      65.000000       0.000000           14.500000   \n",
       "max    3.999992e+07      70.000000       1.000000           23.750000   \n",
       "\n",
       "             watched           test  \n",
       "count  418026.000000  418026.000000  \n",
       "mean        0.054547       0.488790  \n",
       "std         0.227094       0.499875  \n",
       "min         0.000000       0.000000  \n",
       "25%         0.000000       0.000000  \n",
       "50%         0.000000       0.000000  \n",
       "75%         0.000000       1.000000  \n",
       "max         1.000000       1.000000  "
      ]
     },
     "execution_count": 13,
     "metadata": {},
     "output_type": "execute_result"
    }
   ],
   "source": [
    "test_data_pd.describe()"
   ]
  },
  {
   "cell_type": "markdown",
   "metadata": {},
   "source": [
    "#### How many dates there are?"
   ]
  },
  {
   "cell_type": "code",
   "execution_count": 14,
   "metadata": {},
   "outputs": [
    {
     "data": {
      "text/plain": [
       "DatetimeIndex(['2018-01-15', '2018-01-16', '2018-01-17', '2018-01-18',\n",
       "               '2018-01-19'],\n",
       "              dtype='datetime64[ns]', freq='D')"
      ]
     },
     "execution_count": 14,
     "metadata": {},
     "output_type": "execute_result"
    }
   ],
   "source": [
    "date_list = pd.date_range(test_data_pd.date.min(), test_data_pd.date.max())\n",
    "date_list"
   ]
  },
  {
   "cell_type": "code",
   "execution_count": 15,
   "metadata": {},
   "outputs": [
    {
     "data": {
      "text/plain": [
       "5"
      ]
     },
     "execution_count": 15,
     "metadata": {},
     "output_type": "execute_result"
    }
   ],
   "source": [
    "len(date_list)"
   ]
  },
  {
   "cell_type": "code",
   "execution_count": 16,
   "metadata": {},
   "outputs": [
    {
     "data": {
      "text/plain": [
       "(418026, 9)"
      ]
     },
     "execution_count": 16,
     "metadata": {},
     "output_type": "execute_result"
    }
   ],
   "source": [
    "test_data_pd.shape"
   ]
  },
  {
   "cell_type": "code",
   "execution_count": 17,
   "metadata": {},
   "outputs": [
    {
     "data": {
      "text/plain": [
       "3709514"
      ]
     },
     "execution_count": 17,
     "metadata": {},
     "output_type": "execute_result"
    }
   ],
   "source": [
    "test_data_pd.count().sum()"
   ]
  },
  {
   "cell_type": "markdown",
   "metadata": {},
   "source": [
    "### How many nulls in test_data?"
   ]
  },
  {
   "cell_type": "code",
   "execution_count": 18,
   "metadata": {},
   "outputs": [
    {
     "data": {
      "text/plain": [
       "52720"
      ]
     },
     "execution_count": 18,
     "metadata": {},
     "output_type": "execute_result"
    }
   ],
   "source": [
    "# total\n",
    "test_data_pd.isnull().sum().sum()"
   ]
  },
  {
   "cell_type": "code",
   "execution_count": 19,
   "metadata": {},
   "outputs": [
    {
     "data": {
      "text/plain": [
       "viewer_id             False\n",
       "date                  False\n",
       "tv_make               False\n",
       "tv_size               False\n",
       "uhd_capable           False\n",
       "tv_provider            True\n",
       "total_time_watched    False\n",
       "watched               False\n",
       "test                  False\n",
       "dtype: bool"
      ]
     },
     "execution_count": 19,
     "metadata": {},
     "output_type": "execute_result"
    }
   ],
   "source": [
    "# which column?\n",
    "test_data_pd.isnull().any()"
   ]
  },
  {
   "cell_type": "code",
   "execution_count": 20,
   "metadata": {},
   "outputs": [
    {
     "data": {
      "text/plain": [
       "viewer_id                 0\n",
       "date                      0\n",
       "tv_make                   0\n",
       "tv_size                   0\n",
       "uhd_capable               0\n",
       "tv_provider           52720\n",
       "total_time_watched        0\n",
       "watched                   0\n",
       "test                      0\n",
       "dtype: int64"
      ]
     },
     "execution_count": 20,
     "metadata": {},
     "output_type": "execute_result"
    }
   ],
   "source": [
    "# how many nulls in the column tv_provider?\n",
    "test_data_pd.isnull().sum()"
   ]
  },
  {
   "cell_type": "markdown",
   "metadata": {},
   "source": [
    "### How many nulls in viewer_data?"
   ]
  },
  {
   "cell_type": "code",
   "execution_count": 21,
   "metadata": {},
   "outputs": [
    {
     "data": {
      "text/plain": [
       "0"
      ]
     },
     "execution_count": 21,
     "metadata": {},
     "output_type": "execute_result"
    }
   ],
   "source": [
    "# total\n",
    "viewer_data_pd.isnull().sum().sum()"
   ]
  },
  {
   "cell_type": "markdown",
   "metadata": {},
   "source": [
    "#### let's convert to PySpark for more convenient data wrangling"
   ]
  },
  {
   "cell_type": "code",
   "execution_count": 22,
   "metadata": {},
   "outputs": [],
   "source": [
    "test_schema = StructType(\n",
    "    [\n",
    "        StructField(\"viewer_id\", StringType(), True),\n",
    "        StructField(\"date\", StringType(), True),\n",
    "        StructField(\"tv_make\", StringType(), True),\n",
    "        StructField(\"tv_size\", StringType(), True),\n",
    "        StructField(\"uhd_capable\", IntegerType(), True),\n",
    "        StructField(\"tv_provider\", StringType(), True),\n",
    "        StructField(\"total_time_watched\", DoubleType(), True),\n",
    "        StructField(\"watched\", IntegerType(), True),\n",
    "        StructField(\"test\", IntegerType(), True)\n",
    "    ]\n",
    ")"
   ]
  },
  {
   "cell_type": "code",
   "execution_count": 23,
   "metadata": {},
   "outputs": [
    {
     "name": "stdout",
     "output_type": "stream",
     "text": [
      "root\n",
      " |-- viewer_id: string (nullable = true)\n",
      " |-- date: string (nullable = true)\n",
      " |-- tv_make: string (nullable = true)\n",
      " |-- tv_size: string (nullable = true)\n",
      " |-- uhd_capable: integer (nullable = true)\n",
      " |-- tv_provider: string (nullable = true)\n",
      " |-- total_time_watched: double (nullable = true)\n",
      " |-- watched: integer (nullable = true)\n",
      " |-- test: integer (nullable = true)\n",
      "\n"
     ]
    }
   ],
   "source": [
    "test_data_df = spark.createDataFrame(test_data_pd, schema=test_schema)\n",
    "test_data_df.printSchema()"
   ]
  },
  {
   "cell_type": "code",
   "execution_count": 24,
   "metadata": {},
   "outputs": [
    {
     "name": "stderr",
     "output_type": "stream",
     "text": [
      "21/08/19 00:41:25 WARN TaskSetManager: Stage 0 contains a task of very large size (3256 KiB). The maximum recommended task size is 1000 KiB.\n",
      "[Stage 0:>                                                          (0 + 1) / 1]\r"
     ]
    },
    {
     "name": "stdout",
     "output_type": "stream",
     "text": [
      "+---------+----------+-------+-------+-----------+-----------+------------------+-------+----+\n",
      "|viewer_id|      date|tv_make|tv_size|uhd_capable|tv_provider|total_time_watched|watched|test|\n",
      "+---------+----------+-------+-------+-----------+-----------+------------------+-------+----+\n",
      "| 24726768|2018-01-16|   Sony|     70|          0|    Comcast|             10.75|      0|   1|\n",
      "| 25001464|2018-01-18|   Sony|     32|          0|        NaN|              2.75|      0|   0|\n",
      "+---------+----------+-------+-------+-----------+-----------+------------------+-------+----+\n",
      "only showing top 2 rows\n",
      "\n"
     ]
    },
    {
     "name": "stderr",
     "output_type": "stream",
     "text": [
      "\r",
      "                                                                                \r"
     ]
    }
   ],
   "source": [
    "# not as pretty as Pandas, I know ;)\n",
    "test_data_df.show(2)"
   ]
  },
  {
   "cell_type": "code",
   "execution_count": 25,
   "metadata": {},
   "outputs": [],
   "source": [
    "viewer_schema = StructType(\n",
    "    [\n",
    "        StructField(\"viewer_id\", StringType(), True),\n",
    "        StructField(\"gender\", StringType(), True),\n",
    "        StructField(\"age\", IntegerType(), True),\n",
    "        StructField(\"city\", StringType(), True)\n",
    "    ]\n",
    ")"
   ]
  },
  {
   "cell_type": "code",
   "execution_count": 26,
   "metadata": {},
   "outputs": [
    {
     "name": "stdout",
     "output_type": "stream",
     "text": [
      "root\n",
      " |-- viewer_id: string (nullable = true)\n",
      " |-- gender: string (nullable = true)\n",
      " |-- age: integer (nullable = true)\n",
      " |-- city: string (nullable = true)\n",
      "\n"
     ]
    }
   ],
   "source": [
    "viewer_data_df = spark.createDataFrame(viewer_data_pd, schema=viewer_schema)\n",
    "viewer_data_df.printSchema()"
   ]
  },
  {
   "cell_type": "code",
   "execution_count": 27,
   "metadata": {},
   "outputs": [],
   "source": [
    "# join of both tables\n",
    "test_data_with_viewer_df = (test_data_df\n",
    "                            .join(other=viewer_data_df, on='viewer_id', how='left')\n",
    "                           )"
   ]
  },
  {
   "cell_type": "code",
   "execution_count": 28,
   "metadata": {},
   "outputs": [
    {
     "name": "stderr",
     "output_type": "stream",
     "text": [
      "21/08/19 00:41:28 WARN TaskSetManager: Stage 1 contains a task of very large size (1433 KiB). The maximum recommended task size is 1000 KiB.\n",
      "21/08/19 00:41:29 WARN TaskSetManager: Stage 2 contains a task of very large size (3255 KiB). The maximum recommended task size is 1000 KiB.\n",
      "                                                                                \r"
     ]
    },
    {
     "name": "stdout",
     "output_type": "stream",
     "text": [
      "+------+------+\n",
      "|gender|count |\n",
      "+------+------+\n",
      "|null  |556   |\n",
      "|Female|209420|\n",
      "|Male  |208050|\n",
      "+------+------+\n",
      "\n"
     ]
    }
   ],
   "source": [
    "# did I find all viewers in dictionary?\n",
    "(test_data_with_viewer_df\n",
    " .groupBy('gender')\n",
    " .count()\n",
    ").show(10, False)"
   ]
  },
  {
   "cell_type": "markdown",
   "metadata": {},
   "source": [
    "- some viewers are not in dictionary\n",
    "- let's see how all nulls affect experiment"
   ]
  },
  {
   "cell_type": "markdown",
   "metadata": {},
   "source": [
    "### How nulls affect experiment?"
   ]
  },
  {
   "cell_type": "code",
   "execution_count": 29,
   "metadata": {},
   "outputs": [
    {
     "name": "stderr",
     "output_type": "stream",
     "text": [
      "21/08/19 00:41:34 WARN TaskSetManager: Stage 21 contains a task of very large size (1433 KiB). The maximum recommended task size is 1000 KiB.\n",
      "21/08/19 00:41:35 WARN TaskSetManager: Stage 22 contains a task of very large size (3255 KiB). The maximum recommended task size is 1000 KiB.\n",
      "                                                                                \r"
     ]
    },
    {
     "name": "stdout",
     "output_type": "stream",
     "text": [
      "+----+-----------+---------------------+\n",
      "|test|sample_size|sample_size_with_dict|\n",
      "+----+-----------+---------------------+\n",
      "|1   |204327     |204327               |\n",
      "|0   |213699     |213143               |\n",
      "+----+-----------+---------------------+\n",
      "\n"
     ]
    }
   ],
   "source": [
    "(test_data_with_viewer_df\n",
    " .withColumn('no_viewer_data', f.col('gender').isNull())\n",
    " .withColumn('no_tv_provider', f.col('tv_provider').isNull())\n",
    " .groupBy('test')\n",
    " .agg(f.count('*').alias('sample_size'),\n",
    "      f.count(f.when(~f.col('no_viewer_data'), '*')).alias('sample_size_with_dict')\n",
    "     )\n",
    ").show(10, False)"
   ]
  },
  {
   "cell_type": "code",
   "execution_count": 30,
   "metadata": {},
   "outputs": [
    {
     "data": {
      "text/plain": [
       "0.04385607794140356"
      ]
     },
     "execution_count": 30,
     "metadata": {},
     "output_type": "execute_result"
    }
   ],
   "source": [
    "(213699-204327)/213699"
   ]
  },
  {
   "cell_type": "markdown",
   "metadata": {},
   "source": [
    "- difference in sample size accounts for 4.4%. That is a lot.\n",
    "- but I still need to check one thing: city of viewer. It may change something."
   ]
  },
  {
   "cell_type": "code",
   "execution_count": 31,
   "metadata": {},
   "outputs": [
    {
     "name": "stderr",
     "output_type": "stream",
     "text": [
      "21/08/19 00:41:38 WARN TaskSetManager: Stage 41 contains a task of very large size (3255 KiB). The maximum recommended task size is 1000 KiB.\n",
      "21/08/19 00:41:39 WARN TaskSetManager: Stage 42 contains a task of very large size (1433 KiB). The maximum recommended task size is 1000 KiB.\n",
      "[Stage 43:==================================================>   (186 + 4) / 200]\r"
     ]
    },
    {
     "name": "stdout",
     "output_type": "stream",
     "text": [
      "+----+-------+-----------+---------------------+\n",
      "|test|city_LA|sample_size|sample_size_with_dict|\n",
      "+----+-------+-----------+---------------------+\n",
      "|0   |null   |556        |0                    |\n",
      "|0   |false  |160630     |160630               |\n",
      "|0   |true   |52513      |52513                |\n",
      "|1   |false  |204327     |204327               |\n",
      "+----+-------+-----------+---------------------+\n",
      "\n"
     ]
    },
    {
     "name": "stderr",
     "output_type": "stream",
     "text": [
      "\r",
      "[Stage 44:============================================>         (165 + 5) / 200]\r",
      "\r",
      "                                                                                \r"
     ]
    }
   ],
   "source": [
    "(test_data_with_viewer_df\n",
    " .withColumn('no_viewer_data', f.col('gender').isNull())\n",
    " .withColumn('no_tv_provider', f.col('tv_provider').isNull())\n",
    " .withColumn('city_LA', f.col('city') == 'Los Angeles')\n",
    " .groupBy('test', 'city_LA')\n",
    " .agg(f.count('*').alias('sample_size'),\n",
    "      f.count(f.when(~f.col('no_viewer_data'), '*')).alias('sample_size_with_dict')\n",
    "     )\n",
    " .orderBy('test', 'city_LA')\n",
    ").show(10, False)"
   ]
  },
  {
   "cell_type": "code",
   "execution_count": 32,
   "metadata": {},
   "outputs": [
    {
     "name": "stderr",
     "output_type": "stream",
     "text": [
      "21/08/19 00:41:42 WARN TaskSetManager: Stage 45 contains a task of very large size (1433 KiB). The maximum recommended task size is 1000 KiB.\n",
      "21/08/19 00:41:42 WARN TaskSetManager: Stage 46 contains a task of very large size (3255 KiB). The maximum recommended task size is 1000 KiB.\n",
      "[Stage 48:=============================================>        (168 + 4) / 200]\r"
     ]
    },
    {
     "name": "stdout",
     "output_type": "stream",
     "text": [
      "+-------------+----+-----------+---------------------+\n",
      "|city         |test|sample_size|sample_size_with_dict|\n",
      "+-------------+----+-----------+---------------------+\n",
      "|null         |0   |556        |0                    |\n",
      "|Atlanta      |0   |11728      |11728                |\n",
      "|Atlanta      |1   |12599      |12599                |\n",
      "|Boston       |0   |11758      |11758                |\n",
      "|Boston       |1   |12660      |12660                |\n",
      "|Chicago      |0   |16054      |16054                |\n",
      "|Chicago      |1   |16991      |16991                |\n",
      "|Dallas       |0   |12874      |12874                |\n",
      "|Dallas       |1   |13807      |13807                |\n",
      "|Detroit      |0   |8739       |8739                 |\n",
      "|Detroit      |1   |9192       |9192                 |\n",
      "|Houston      |0   |11802      |11802                |\n",
      "|Houston      |1   |12589      |12589                |\n",
      "|Los Angeles  |0   |52513      |52513                |\n",
      "|Miami        |0   |8301       |8301                 |\n",
      "|Miami        |1   |8984       |8984                 |\n",
      "|Minneapolis  |0   |8203       |8203                 |\n",
      "|Minneapolis  |1   |9093       |9093                 |\n",
      "|New York     |0   |34082      |34082                |\n",
      "|New York     |1   |35812      |35812                |\n",
      "|Philadelphia |0   |4261       |4261                 |\n",
      "|Philadelphia |1   |24495      |24495                |\n",
      "|Phoenix      |0   |9317       |9317                 |\n",
      "|Phoenix      |1   |10015      |10015                |\n",
      "|San Francisco|0   |11691      |11691                |\n",
      "|San Francisco|1   |12609      |12609                |\n",
      "|Seattle      |0   |2846       |2846                 |\n",
      "|Seattle      |1   |15850      |15850                |\n",
      "|Tampa        |0   |8974       |8974                 |\n",
      "|Tampa        |1   |9631       |9631                 |\n",
      "+-------------+----+-----------+---------------------+\n",
      "\n"
     ]
    },
    {
     "name": "stderr",
     "output_type": "stream",
     "text": [
      "\r",
      "                                                                                \r"
     ]
    }
   ],
   "source": [
    "(test_data_with_viewer_df\n",
    " .withColumn('no_viewer_data', f.col('gender').isNull())\n",
    " .withColumn('no_tv_provider', f.col('tv_provider').isNull())\n",
    " .withColumn('city_LA', f.col('city') == 'Los Angeles')\n",
    " .groupBy('city', 'test')\n",
    " .agg(f.count('*').alias('sample_size'),\n",
    "      f.count(f.when(~f.col('no_viewer_data'), '*')).alias('sample_size_with_dict')\n",
    "     )\n",
    " .orderBy('city', 'test')\n",
    ").show(50, False)"
   ]
  },
  {
   "cell_type": "markdown",
   "metadata": {},
   "source": [
    "#### The table above tells us sth about experiment setup.\n",
    "\n",
    "##### Key findings:\n",
    "- both group should be equally distributed regarding charactersics of users. There are no users from Los Angeles in the test group. There is also huge underrepresentation of Seattle in control group. Thus, there is a risk that we compare groups that are not evenly distributed."
   ]
  },
  {
   "cell_type": "markdown",
   "metadata": {},
   "source": [
    "### 1. Reproduce the negative result by Channel KLMN's data scientist\n",
    "- I assume that nulls were included by Channel KLMN's data scientist"
   ]
  },
  {
   "cell_type": "code",
   "execution_count": 33,
   "metadata": {},
   "outputs": [],
   "source": [
    "window_spec = (Window\n",
    "               .orderBy('test')\n",
    "              )\n",
    "test_data_agg = (test_data_with_viewer_df\n",
    "                 .groupBy('test')\n",
    "                 .agg(f.sum(f.col('watched')).alias('watched'),\n",
    "                      f.count('*').alias('all_userdays')\n",
    "                     )\n",
    "                 .withColumn('conversion', f.col('watched')/f.col('all_userdays'))\n",
    "                 .withColumn('control_group_value', f.first(f.col('conversion')).over(window_spec))\n",
    "                 .withColumn('diff_to_base_pp', 100*(f.col('conversion') - f.col('control_group_value')))\n",
    "                 .withColumn('diff_to_base_perc', (f.col('conversion') - f.col('control_group_value'))/f.col('control_group_value'))\n",
    "                )"
   ]
  },
  {
   "cell_type": "code",
   "execution_count": 34,
   "metadata": {},
   "outputs": [
    {
     "name": "stderr",
     "output_type": "stream",
     "text": [
      "21/08/19 00:41:46 WARN WindowExec: No Partition Defined for Window operation! Moving all data to a single partition, this can cause serious performance degradation.\n",
      "21/08/19 00:41:46 WARN TaskSetManager: Stage 49 contains a task of very large size (3255 KiB). The maximum recommended task size is 1000 KiB.\n",
      "21/08/19 00:41:47 WARN TaskSetManager: Stage 50 contains a task of very large size (1433 KiB). The maximum recommended task size is 1000 KiB.\n",
      "[Stage 51:====================================================> (195 + 4) / 200]\r"
     ]
    },
    {
     "name": "stdout",
     "output_type": "stream",
     "text": [
      "+----+-------+------------+-------------------+-------------------+-------------------+--------------------+\n",
      "|test|watched|all_userdays|conversion         |control_group_value|diff_to_base_pp    |diff_to_base_perc   |\n",
      "+----+-------+------------+-------------------+-------------------+-------------------+--------------------+\n",
      "|0   |13448  |213699      |0.0629296346730682 |0.0629296346730682 |0.0                |0.0                 |\n",
      "|1   |9354   |204327      |0.04577955923593064|0.0629296346730682 |-1.7150075437137555|-0.27252780865860043|\n",
      "+----+-------+------------+-------------------+-------------------+-------------------+--------------------+\n",
      "\n"
     ]
    },
    {
     "name": "stderr",
     "output_type": "stream",
     "text": [
      "\r",
      "                                                                                \r"
     ]
    }
   ],
   "source": [
    "test_data_agg.orderBy('test').show(10, False)"
   ]
  },
  {
   "cell_type": "markdown",
   "metadata": {},
   "source": [
    "- we can already see a huge negative difference (-27%)\n",
    "- probably no significance test required but let's perform it"
   ]
  },
  {
   "cell_type": "markdown",
   "metadata": {},
   "source": [
    "#### First, let's check if the sample size is big enough to assure the difference."
   ]
  },
  {
   "cell_type": "code",
   "execution_count": 35,
   "metadata": {},
   "outputs": [],
   "source": [
    "import math\n",
    "import scipy\n",
    "def get_minimum_detectable_impact(sample_size, metric_avg, metric_std=0, metric='binary', alfa=0.05):\n",
    "\n",
    "    z_a = scipy.stats.norm.ppf(1-(alfa/2)) # Z alpha\n",
    "    z_b = scipy.stats.norm.ppf(1-alfa) # Z test power\n",
    "    \n",
    "    if metric == 'binary':\n",
    "        min_impact = math.sqrt((2 * (z_a + z_b) ** 2 * metric_avg * (1 - metric_avg)) / (sample_size * metric_avg ** 2))\n",
    "    else:\n",
    "        min_impact = math.sqrt((2 * (z_a + z_b) ** 2 * metric_std ** 2) / (sample_size * metric_avg ** 2))\n",
    "    return min_impact"
   ]
  },
  {
   "cell_type": "code",
   "execution_count": 36,
   "metadata": {},
   "outputs": [
    {
     "data": {
      "text/plain": [
       "0.04255548510670759"
      ]
     },
     "execution_count": 36,
     "metadata": {},
     "output_type": "execute_result"
    }
   ],
   "source": [
    "get_minimum_detectable_impact(sample_size=213699,\n",
    "                              metric_avg=0.0629296346730682,\n",
    "                             )"
   ]
  },
  {
   "cell_type": "markdown",
   "metadata": {},
   "source": [
    "#### The difference is big enough to perform significance test."
   ]
  },
  {
   "cell_type": "code",
   "execution_count": 37,
   "metadata": {},
   "outputs": [],
   "source": [
    "test_results = []\n",
    "def getStats(df, cols, alfa=0.05):\n",
    "\n",
    "    pd_df = df.drop('clicked_cnt', 'non_clicked_cnt').toPandas().set_index(['test'])\n",
    "    \n",
    "    pd_df.at[[(0)], 'significant'] = False\n",
    "    sample_size=(df\n",
    "            .where(f.col('test') == 0)\n",
    "                .collect()[0].all_userdays)\n",
    "    metric_avg=(df\n",
    "            .where(f.col('test') == 0)\n",
    "                .collect()[0].conversion)\n",
    "    print('sample_size:', sample_size, \" metric_avg:\", metric_avg)\n",
    "    minimum_detectable_impact = get_minimum_detectable_impact(sample_size=sample_size, metric_avg=metric_avg, alfa=alfa)\n",
    "    print('get_minimum_detectable_impact:', minimum_detectable_impact)\n",
    "\n",
    "    tmp = (df\n",
    "        .where(f.col('test').isin([0, 1]))\n",
    "        .select(['test']+cols))\n",
    "    diff=abs(tmp.where(f.col('test')== 1).collect()[0].conversion\n",
    "          -tmp.where(f.col('test')== 0 ).collect()[0].conversion)/tmp.where(f.col('test')== 0).collect()[0].conversion\n",
    "    obs = np.array(tmp.select(cols[:2]).limit(2000000).collect())\n",
    "    try:\n",
    "        p = chi2_contingency(obs)[1]\n",
    "        significant = (p<alfa) & (diff>=minimum_detectable_impact)\n",
    "        pd_df.at[[(1)], 'significant'] = significant\n",
    "    except ValueError:\n",
    "        pass    \n",
    "         \n",
    "    return pd_df\n",
    "    return (pd_df.sort_values(by=['test'], axis='index')\n",
    "            [['all_userdays', 'conversion', 'diff_to_base_pp', 'diff_to_base_perc', 'significant']]\n",
    "            .style.format({'conversion': \"{:.2%}\",'diff_to_base_pp': \"{:.2f} pp\",'diff_to_base_perc': \"{:.2%}\"})).set_caption('Konwersja na SI: wszystkie listingi')"
   ]
  },
  {
   "cell_type": "code",
   "execution_count": 38,
   "metadata": {},
   "outputs": [
    {
     "name": "stderr",
     "output_type": "stream",
     "text": [
      "21/08/19 00:41:50 WARN WindowExec: No Partition Defined for Window operation! Moving all data to a single partition, this can cause serious performance degradation.\n",
      "21/08/19 00:41:50 WARN TaskSetManager: Stage 54 contains a task of very large size (1433 KiB). The maximum recommended task size is 1000 KiB.\n",
      "21/08/19 00:41:51 WARN TaskSetManager: Stage 55 contains a task of very large size (3255 KiB). The maximum recommended task size is 1000 KiB.\n",
      "[Stage 56:==============================================>       (172 + 4) / 200]\r"
     ]
    },
    {
     "name": "stdout",
     "output_type": "stream",
     "text": [
      "-RECORD 0---------------------------------\n",
      " test                | 0                  \n",
      " watched             | 13448              \n",
      " all_userdays        | 213699             \n",
      " conversion          | 0.0629296346730682 \n",
      " control_group_value | 0.0629296346730682 \n",
      " diff_to_base_pp     | 0.0                \n",
      " diff_to_base_perc   | 0.0                \n",
      " not_watched         | 200251             \n",
      "only showing top 1 row\n",
      "\n"
     ]
    },
    {
     "name": "stderr",
     "output_type": "stream",
     "text": [
      "\r",
      "                                                                                \r"
     ]
    }
   ],
   "source": [
    "test_data_agg_chi = (test_data_agg\n",
    "                     .withColumn('not_watched', f.col('all_userdays')-f.col('watched'))\n",
    "                    )\n",
    "test_data_agg_chi.show(1, False, True)"
   ]
  },
  {
   "cell_type": "code",
   "execution_count": 39,
   "metadata": {},
   "outputs": [],
   "source": [
    "cols_chi = ['watched', 'not_watched', 'conversion' ,'diff_to_base_pp', 'diff_to_base_perc']"
   ]
  },
  {
   "cell_type": "code",
   "execution_count": 40,
   "metadata": {},
   "outputs": [
    {
     "name": "stderr",
     "output_type": "stream",
     "text": [
      "21/08/19 00:41:54 WARN WindowExec: No Partition Defined for Window operation! Moving all data to a single partition, this can cause serious performance degradation.\n",
      "21/08/19 00:41:54 WARN TaskSetManager: Stage 59 contains a task of very large size (1433 KiB). The maximum recommended task size is 1000 KiB.\n",
      "21/08/19 00:41:54 WARN TaskSetManager: Stage 60 contains a task of very large size (3255 KiB). The maximum recommended task size is 1000 KiB.\n",
      "21/08/19 00:41:57 WARN WindowExec: No Partition Defined for Window operation! Moving all data to a single partition, this can cause serious performance degradation.\n",
      "21/08/19 00:41:57 WARN TaskSetManager: Stage 64 contains a task of very large size (3255 KiB). The maximum recommended task size is 1000 KiB.\n",
      "21/08/19 00:41:57 WARN TaskSetManager: Stage 65 contains a task of very large size (1433 KiB). The maximum recommended task size is 1000 KiB.\n",
      "21/08/19 00:42:00 WARN WindowExec: No Partition Defined for Window operation! Moving all data to a single partition, this can cause serious performance degradation.\n",
      "21/08/19 00:42:00 WARN TaskSetManager: Stage 69 contains a task of very large size (1433 KiB). The maximum recommended task size is 1000 KiB.\n",
      "21/08/19 00:42:00 WARN TaskSetManager: Stage 70 contains a task of very large size (3255 KiB). The maximum recommended task size is 1000 KiB.\n",
      "21/08/19 00:42:03 WARN WindowExec: No Partition Defined for Window operation! Moving all data to a single partition, this can cause serious performance degradation.\n",
      "21/08/19 00:42:03 WARN TaskSetManager: Stage 74 contains a task of very large size (3255 KiB). The maximum recommended task size is 1000 KiB.\n"
     ]
    },
    {
     "name": "stdout",
     "output_type": "stream",
     "text": [
      "sample_size: 213699  metric_avg: 0.0629296346730682\n",
      "get_minimum_detectable_impact: 0.04255548510670759\n"
     ]
    },
    {
     "name": "stderr",
     "output_type": "stream",
     "text": [
      "21/08/19 00:42:03 WARN TaskSetManager: Stage 75 contains a task of very large size (1433 KiB). The maximum recommended task size is 1000 KiB.\n",
      "21/08/19 00:42:05 WARN WindowExec: No Partition Defined for Window operation! Moving all data to a single partition, this can cause serious performance degradation.\n",
      "21/08/19 00:42:05 WARN TaskSetManager: Stage 79 contains a task of very large size (1433 KiB). The maximum recommended task size is 1000 KiB.\n",
      "21/08/19 00:42:06 WARN TaskSetManager: Stage 80 contains a task of very large size (3255 KiB). The maximum recommended task size is 1000 KiB.\n",
      "21/08/19 00:42:08 WARN WindowExec: No Partition Defined for Window operation! Moving all data to a single partition, this can cause serious performance degradation.\n",
      "21/08/19 00:42:08 WARN TaskSetManager: Stage 84 contains a task of very large size (1433 KiB). The maximum recommended task size is 1000 KiB.\n",
      "21/08/19 00:42:09 WARN TaskSetManager: Stage 85 contains a task of very large size (3255 KiB). The maximum recommended task size is 1000 KiB.\n",
      "21/08/19 00:42:11 WARN TaskSetManager: Stage 89 contains a task of very large size (1433 KiB). The maximum recommended task size is 1000 KiB.\n",
      "21/08/19 00:42:11 WARN TaskSetManager: Stage 90 contains a task of very large size (3255 KiB). The maximum recommended task size is 1000 KiB.\n",
      "                                                                                \r"
     ]
    }
   ],
   "source": [
    "result_pd = getStats(df=test_data_agg_chi.drop('control_group_value'),\n",
    "                     cols=cols_chi,\n",
    "                     alfa = 0.05\n",
    "                    )"
   ]
  },
  {
   "cell_type": "code",
   "execution_count": 41,
   "metadata": {},
   "outputs": [
    {
     "data": {
      "text/html": [
       "<style type=\"text/css\">\n",
       "</style>\n",
       "<table id=\"T_e4c97_\">\n",
       "  <caption>Local mayor ad conversion</caption>\n",
       "  <thead>\n",
       "    <tr>\n",
       "      <th class=\"blank level0\" >&nbsp;</th>\n",
       "      <th class=\"col_heading level0 col0\" >all_userdays</th>\n",
       "      <th class=\"col_heading level0 col1\" >conversion</th>\n",
       "      <th class=\"col_heading level0 col2\" >diff_to_base_pp</th>\n",
       "      <th class=\"col_heading level0 col3\" >diff_to_base_perc</th>\n",
       "      <th class=\"col_heading level0 col4\" >significant</th>\n",
       "    </tr>\n",
       "    <tr>\n",
       "      <th class=\"index_name level0\" >test</th>\n",
       "      <th class=\"blank col0\" >&nbsp;</th>\n",
       "      <th class=\"blank col1\" >&nbsp;</th>\n",
       "      <th class=\"blank col2\" >&nbsp;</th>\n",
       "      <th class=\"blank col3\" >&nbsp;</th>\n",
       "      <th class=\"blank col4\" >&nbsp;</th>\n",
       "    </tr>\n",
       "  </thead>\n",
       "  <tbody>\n",
       "    <tr>\n",
       "      <th id=\"T_e4c97_level0_row0\" class=\"row_heading level0 row0\" >0</th>\n",
       "      <td id=\"T_e4c97_row0_col0\" class=\"data row0 col0\" >213699</td>\n",
       "      <td id=\"T_e4c97_row0_col1\" class=\"data row0 col1\" >6.29%</td>\n",
       "      <td id=\"T_e4c97_row0_col2\" class=\"data row0 col2\" >0.00 pp</td>\n",
       "      <td id=\"T_e4c97_row0_col3\" class=\"data row0 col3\" >0.00%</td>\n",
       "      <td id=\"T_e4c97_row0_col4\" class=\"data row0 col4\" >False</td>\n",
       "    </tr>\n",
       "    <tr>\n",
       "      <th id=\"T_e4c97_level0_row1\" class=\"row_heading level0 row1\" >1</th>\n",
       "      <td id=\"T_e4c97_row1_col0\" class=\"data row1 col0\" >204327</td>\n",
       "      <td id=\"T_e4c97_row1_col1\" class=\"data row1 col1\" >4.58%</td>\n",
       "      <td id=\"T_e4c97_row1_col2\" class=\"data row1 col2\" >-1.72 pp</td>\n",
       "      <td id=\"T_e4c97_row1_col3\" class=\"data row1 col3\" >-27.25%</td>\n",
       "      <td id=\"T_e4c97_row1_col4\" class=\"data row1 col4\" >True</td>\n",
       "    </tr>\n",
       "  </tbody>\n",
       "</table>\n"
      ],
      "text/plain": [
       "<pandas.io.formats.style.Styler at 0x7f02d05e52e0>"
      ]
     },
     "execution_count": 41,
     "metadata": {},
     "output_type": "execute_result"
    }
   ],
   "source": [
    "(result_pd[['all_userdays', 'conversion', 'diff_to_base_pp', 'diff_to_base_perc', 'significant']]\n",
    ".style.format({'conversion': \"{:.2%}\",'diff_to_base_pp': \"{:.2f} pp\",'diff_to_base_perc': \"{:.2%}\"})\n",
    ").set_caption('Local mayor ad conversion') "
   ]
  },
  {
   "cell_type": "markdown",
   "metadata": {},
   "source": [
    "#### Answer 1: The result is negative (significant difference)."
   ]
  },
  {
   "cell_type": "markdown",
   "metadata": {},
   "source": [
    "### 2. Investigate what might be happening.  Are the commercials with local Mayors really driving a lower fraction of people to watch the show?"
   ]
  },
  {
   "cell_type": "markdown",
   "metadata": {},
   "source": [
    "#### My hypothesis is that uneven distribution of users (by city) drives this difference.\n",
    "Let's check!"
   ]
  },
  {
   "cell_type": "code",
   "execution_count": 42,
   "metadata": {},
   "outputs": [],
   "source": [
    "window_spec_city = Window.partitionBy('city').orderBy('test')\n",
    "\n",
    "test_data_city_agg = (test_data_with_viewer_df\n",
    "                      .groupBy('city', 'test')\n",
    "                      .agg(f.sum(f.col('watched')).alias('watched'),\n",
    "                           f.count('*').alias('all_userdays')\n",
    "                          )\n",
    "                      .withColumn('conversion', f.col('watched')/f.col('all_userdays'))\n",
    "                      .withColumn('control_group_value', f.first(f.col('conversion')).over(window_spec_city))\n",
    "                      .withColumn('control_group_sample_size', f.first(f.col('all_userdays')).over(window_spec_city))\n",
    "                      .withColumn('diff_to_base_perc', (f.col('conversion') - f.col('control_group_value')) /\n",
    "                                  f.col('control_group_value'))\n",
    "                      .withColumn('diff_to_base_perc_sample_size', (f.col('all_userdays') - f.col('control_group_sample_size')) /\n",
    "                                  f.col('control_group_sample_size'))\n",
    "                      .orderBy('city', 'test')\n",
    "                     )"
   ]
  },
  {
   "cell_type": "code",
   "execution_count": 43,
   "metadata": {},
   "outputs": [
    {
     "name": "stderr",
     "output_type": "stream",
     "text": [
      "21/08/19 00:42:14 WARN TaskSetManager: Stage 109 contains a task of very large size (3255 KiB). The maximum recommended task size is 1000 KiB.\n",
      "21/08/19 00:42:15 WARN TaskSetManager: Stage 110 contains a task of very large size (1433 KiB). The maximum recommended task size is 1000 KiB.\n",
      "                                                                                \r"
     ]
    },
    {
     "data": {
      "text/html": [
       "<style type=\"text/css\">\n",
       "</style>\n",
       "<table id=\"T_0b657_\">\n",
       "  <thead>\n",
       "    <tr>\n",
       "      <th class=\"blank level0\" >&nbsp;</th>\n",
       "      <th class=\"col_heading level0 col0\" >city</th>\n",
       "      <th class=\"col_heading level0 col1\" >test</th>\n",
       "      <th class=\"col_heading level0 col2\" >watched</th>\n",
       "      <th class=\"col_heading level0 col3\" >all_userdays</th>\n",
       "      <th class=\"col_heading level0 col4\" >conversion</th>\n",
       "      <th class=\"col_heading level0 col5\" >control_group_value</th>\n",
       "      <th class=\"col_heading level0 col6\" >control_group_sample_size</th>\n",
       "      <th class=\"col_heading level0 col7\" >diff_to_base_perc</th>\n",
       "      <th class=\"col_heading level0 col8\" >diff_to_base_perc_sample_size</th>\n",
       "    </tr>\n",
       "  </thead>\n",
       "  <tbody>\n",
       "    <tr>\n",
       "      <th id=\"T_0b657_level0_row0\" class=\"row_heading level0 row0\" >0</th>\n",
       "      <td id=\"T_0b657_row0_col0\" class=\"data row0 col0\" >None</td>\n",
       "      <td id=\"T_0b657_row0_col1\" class=\"data row0 col1\" >0</td>\n",
       "      <td id=\"T_0b657_row0_col2\" class=\"data row0 col2\" >0</td>\n",
       "      <td id=\"T_0b657_row0_col3\" class=\"data row0 col3\" >556</td>\n",
       "      <td id=\"T_0b657_row0_col4\" class=\"data row0 col4\" >0.00%</td>\n",
       "      <td id=\"T_0b657_row0_col5\" class=\"data row0 col5\" >0.000000</td>\n",
       "      <td id=\"T_0b657_row0_col6\" class=\"data row0 col6\" >556</td>\n",
       "      <td id=\"T_0b657_row0_col7\" class=\"data row0 col7\" >nan%</td>\n",
       "      <td id=\"T_0b657_row0_col8\" class=\"data row0 col8\" >0.000000</td>\n",
       "    </tr>\n",
       "    <tr>\n",
       "      <th id=\"T_0b657_level0_row1\" class=\"row_heading level0 row1\" >1</th>\n",
       "      <td id=\"T_0b657_row1_col0\" class=\"data row1 col0\" >Atlanta</td>\n",
       "      <td id=\"T_0b657_row1_col1\" class=\"data row1 col1\" >0</td>\n",
       "      <td id=\"T_0b657_row1_col2\" class=\"data row1 col2\" >589</td>\n",
       "      <td id=\"T_0b657_row1_col3\" class=\"data row1 col3\" >11728</td>\n",
       "      <td id=\"T_0b657_row1_col4\" class=\"data row1 col4\" >5.02%</td>\n",
       "      <td id=\"T_0b657_row1_col5\" class=\"data row1 col5\" >0.050222</td>\n",
       "      <td id=\"T_0b657_row1_col6\" class=\"data row1 col6\" >11728</td>\n",
       "      <td id=\"T_0b657_row1_col7\" class=\"data row1 col7\" >0.00%</td>\n",
       "      <td id=\"T_0b657_row1_col8\" class=\"data row1 col8\" >0.000000</td>\n",
       "    </tr>\n",
       "    <tr>\n",
       "      <th id=\"T_0b657_level0_row2\" class=\"row_heading level0 row2\" >2</th>\n",
       "      <td id=\"T_0b657_row2_col0\" class=\"data row2 col0\" >Atlanta</td>\n",
       "      <td id=\"T_0b657_row2_col1\" class=\"data row2 col1\" >1</td>\n",
       "      <td id=\"T_0b657_row2_col2\" class=\"data row2 col2\" >641</td>\n",
       "      <td id=\"T_0b657_row2_col3\" class=\"data row2 col3\" >12599</td>\n",
       "      <td id=\"T_0b657_row2_col4\" class=\"data row2 col4\" >5.09%</td>\n",
       "      <td id=\"T_0b657_row2_col5\" class=\"data row2 col5\" >0.050222</td>\n",
       "      <td id=\"T_0b657_row2_col6\" class=\"data row2 col6\" >11728</td>\n",
       "      <td id=\"T_0b657_row2_col7\" class=\"data row2 col7\" >1.30%</td>\n",
       "      <td id=\"T_0b657_row2_col8\" class=\"data row2 col8\" >0.074267</td>\n",
       "    </tr>\n",
       "    <tr>\n",
       "      <th id=\"T_0b657_level0_row3\" class=\"row_heading level0 row3\" >3</th>\n",
       "      <td id=\"T_0b657_row3_col0\" class=\"data row3 col0\" >Boston</td>\n",
       "      <td id=\"T_0b657_row3_col1\" class=\"data row3 col1\" >0</td>\n",
       "      <td id=\"T_0b657_row3_col2\" class=\"data row3 col2\" >605</td>\n",
       "      <td id=\"T_0b657_row3_col3\" class=\"data row3 col3\" >11758</td>\n",
       "      <td id=\"T_0b657_row3_col4\" class=\"data row3 col4\" >5.15%</td>\n",
       "      <td id=\"T_0b657_row3_col5\" class=\"data row3 col5\" >0.051454</td>\n",
       "      <td id=\"T_0b657_row3_col6\" class=\"data row3 col6\" >11758</td>\n",
       "      <td id=\"T_0b657_row3_col7\" class=\"data row3 col7\" >0.00%</td>\n",
       "      <td id=\"T_0b657_row3_col8\" class=\"data row3 col8\" >0.000000</td>\n",
       "    </tr>\n",
       "    <tr>\n",
       "      <th id=\"T_0b657_level0_row4\" class=\"row_heading level0 row4\" >4</th>\n",
       "      <td id=\"T_0b657_row4_col0\" class=\"data row4 col0\" >Boston</td>\n",
       "      <td id=\"T_0b657_row4_col1\" class=\"data row4 col1\" >1</td>\n",
       "      <td id=\"T_0b657_row4_col2\" class=\"data row4 col2\" >662</td>\n",
       "      <td id=\"T_0b657_row4_col3\" class=\"data row4 col3\" >12660</td>\n",
       "      <td id=\"T_0b657_row4_col4\" class=\"data row4 col4\" >5.23%</td>\n",
       "      <td id=\"T_0b657_row4_col5\" class=\"data row4 col5\" >0.051454</td>\n",
       "      <td id=\"T_0b657_row4_col6\" class=\"data row4 col6\" >11758</td>\n",
       "      <td id=\"T_0b657_row4_col7\" class=\"data row4 col7\" >1.63%</td>\n",
       "      <td id=\"T_0b657_row4_col8\" class=\"data row4 col8\" >0.076714</td>\n",
       "    </tr>\n",
       "    <tr>\n",
       "      <th id=\"T_0b657_level0_row5\" class=\"row_heading level0 row5\" >5</th>\n",
       "      <td id=\"T_0b657_row5_col0\" class=\"data row5 col0\" >Chicago</td>\n",
       "      <td id=\"T_0b657_row5_col1\" class=\"data row5 col1\" >0</td>\n",
       "      <td id=\"T_0b657_row5_col2\" class=\"data row5 col2\" >794</td>\n",
       "      <td id=\"T_0b657_row5_col3\" class=\"data row5 col3\" >16054</td>\n",
       "      <td id=\"T_0b657_row5_col4\" class=\"data row5 col4\" >4.95%</td>\n",
       "      <td id=\"T_0b657_row5_col5\" class=\"data row5 col5\" >0.049458</td>\n",
       "      <td id=\"T_0b657_row5_col6\" class=\"data row5 col6\" >16054</td>\n",
       "      <td id=\"T_0b657_row5_col7\" class=\"data row5 col7\" >0.00%</td>\n",
       "      <td id=\"T_0b657_row5_col8\" class=\"data row5 col8\" >0.000000</td>\n",
       "    </tr>\n",
       "    <tr>\n",
       "      <th id=\"T_0b657_level0_row6\" class=\"row_heading level0 row6\" >6</th>\n",
       "      <td id=\"T_0b657_row6_col0\" class=\"data row6 col0\" >Chicago</td>\n",
       "      <td id=\"T_0b657_row6_col1\" class=\"data row6 col1\" >1</td>\n",
       "      <td id=\"T_0b657_row6_col2\" class=\"data row6 col2\" >878</td>\n",
       "      <td id=\"T_0b657_row6_col3\" class=\"data row6 col3\" >16991</td>\n",
       "      <td id=\"T_0b657_row6_col4\" class=\"data row6 col4\" >5.17%</td>\n",
       "      <td id=\"T_0b657_row6_col5\" class=\"data row6 col5\" >0.049458</td>\n",
       "      <td id=\"T_0b657_row6_col6\" class=\"data row6 col6\" >16054</td>\n",
       "      <td id=\"T_0b657_row6_col7\" class=\"data row6 col7\" >4.48%</td>\n",
       "      <td id=\"T_0b657_row6_col8\" class=\"data row6 col8\" >0.058366</td>\n",
       "    </tr>\n",
       "    <tr>\n",
       "      <th id=\"T_0b657_level0_row7\" class=\"row_heading level0 row7\" >7</th>\n",
       "      <td id=\"T_0b657_row7_col0\" class=\"data row7 col0\" >Dallas</td>\n",
       "      <td id=\"T_0b657_row7_col1\" class=\"data row7 col1\" >0</td>\n",
       "      <td id=\"T_0b657_row7_col2\" class=\"data row7 col2\" >655</td>\n",
       "      <td id=\"T_0b657_row7_col3\" class=\"data row7 col3\" >12874</td>\n",
       "      <td id=\"T_0b657_row7_col4\" class=\"data row7 col4\" >5.09%</td>\n",
       "      <td id=\"T_0b657_row7_col5\" class=\"data row7 col5\" >0.050878</td>\n",
       "      <td id=\"T_0b657_row7_col6\" class=\"data row7 col6\" >12874</td>\n",
       "      <td id=\"T_0b657_row7_col7\" class=\"data row7 col7\" >0.00%</td>\n",
       "      <td id=\"T_0b657_row7_col8\" class=\"data row7 col8\" >0.000000</td>\n",
       "    </tr>\n",
       "    <tr>\n",
       "      <th id=\"T_0b657_level0_row8\" class=\"row_heading level0 row8\" >8</th>\n",
       "      <td id=\"T_0b657_row8_col0\" class=\"data row8 col0\" >Dallas</td>\n",
       "      <td id=\"T_0b657_row8_col1\" class=\"data row8 col1\" >1</td>\n",
       "      <td id=\"T_0b657_row8_col2\" class=\"data row8 col2\" >660</td>\n",
       "      <td id=\"T_0b657_row8_col3\" class=\"data row8 col3\" >13807</td>\n",
       "      <td id=\"T_0b657_row8_col4\" class=\"data row8 col4\" >4.78%</td>\n",
       "      <td id=\"T_0b657_row8_col5\" class=\"data row8 col5\" >0.050878</td>\n",
       "      <td id=\"T_0b657_row8_col6\" class=\"data row8 col6\" >12874</td>\n",
       "      <td id=\"T_0b657_row8_col7\" class=\"data row8 col7\" >-6.05%</td>\n",
       "      <td id=\"T_0b657_row8_col8\" class=\"data row8 col8\" >0.072472</td>\n",
       "    </tr>\n",
       "    <tr>\n",
       "      <th id=\"T_0b657_level0_row9\" class=\"row_heading level0 row9\" >9</th>\n",
       "      <td id=\"T_0b657_row9_col0\" class=\"data row9 col0\" >Detroit</td>\n",
       "      <td id=\"T_0b657_row9_col1\" class=\"data row9 col1\" >0</td>\n",
       "      <td id=\"T_0b657_row9_col2\" class=\"data row9 col2\" >410</td>\n",
       "      <td id=\"T_0b657_row9_col3\" class=\"data row9 col3\" >8739</td>\n",
       "      <td id=\"T_0b657_row9_col4\" class=\"data row9 col4\" >4.69%</td>\n",
       "      <td id=\"T_0b657_row9_col5\" class=\"data row9 col5\" >0.046916</td>\n",
       "      <td id=\"T_0b657_row9_col6\" class=\"data row9 col6\" >8739</td>\n",
       "      <td id=\"T_0b657_row9_col7\" class=\"data row9 col7\" >0.00%</td>\n",
       "      <td id=\"T_0b657_row9_col8\" class=\"data row9 col8\" >0.000000</td>\n",
       "    </tr>\n",
       "    <tr>\n",
       "      <th id=\"T_0b657_level0_row10\" class=\"row_heading level0 row10\" >10</th>\n",
       "      <td id=\"T_0b657_row10_col0\" class=\"data row10 col0\" >Detroit</td>\n",
       "      <td id=\"T_0b657_row10_col1\" class=\"data row10 col1\" >1</td>\n",
       "      <td id=\"T_0b657_row10_col2\" class=\"data row10 col2\" >489</td>\n",
       "      <td id=\"T_0b657_row10_col3\" class=\"data row10 col3\" >9192</td>\n",
       "      <td id=\"T_0b657_row10_col4\" class=\"data row10 col4\" >5.32%</td>\n",
       "      <td id=\"T_0b657_row10_col5\" class=\"data row10 col5\" >0.046916</td>\n",
       "      <td id=\"T_0b657_row10_col6\" class=\"data row10 col6\" >8739</td>\n",
       "      <td id=\"T_0b657_row10_col7\" class=\"data row10 col7\" >13.39%</td>\n",
       "      <td id=\"T_0b657_row10_col8\" class=\"data row10 col8\" >0.051837</td>\n",
       "    </tr>\n",
       "    <tr>\n",
       "      <th id=\"T_0b657_level0_row11\" class=\"row_heading level0 row11\" >11</th>\n",
       "      <td id=\"T_0b657_row11_col0\" class=\"data row11 col0\" >Houston</td>\n",
       "      <td id=\"T_0b657_row11_col1\" class=\"data row11 col1\" >0</td>\n",
       "      <td id=\"T_0b657_row11_col2\" class=\"data row11 col2\" >606</td>\n",
       "      <td id=\"T_0b657_row11_col3\" class=\"data row11 col3\" >11802</td>\n",
       "      <td id=\"T_0b657_row11_col4\" class=\"data row11 col4\" >5.13%</td>\n",
       "      <td id=\"T_0b657_row11_col5\" class=\"data row11 col5\" >0.051347</td>\n",
       "      <td id=\"T_0b657_row11_col6\" class=\"data row11 col6\" >11802</td>\n",
       "      <td id=\"T_0b657_row11_col7\" class=\"data row11 col7\" >0.00%</td>\n",
       "      <td id=\"T_0b657_row11_col8\" class=\"data row11 col8\" >0.000000</td>\n",
       "    </tr>\n",
       "    <tr>\n",
       "      <th id=\"T_0b657_level0_row12\" class=\"row_heading level0 row12\" >12</th>\n",
       "      <td id=\"T_0b657_row12_col0\" class=\"data row12 col0\" >Houston</td>\n",
       "      <td id=\"T_0b657_row12_col1\" class=\"data row12 col1\" >1</td>\n",
       "      <td id=\"T_0b657_row12_col2\" class=\"data row12 col2\" >662</td>\n",
       "      <td id=\"T_0b657_row12_col3\" class=\"data row12 col3\" >12589</td>\n",
       "      <td id=\"T_0b657_row12_col4\" class=\"data row12 col4\" >5.26%</td>\n",
       "      <td id=\"T_0b657_row12_col5\" class=\"data row12 col5\" >0.051347</td>\n",
       "      <td id=\"T_0b657_row12_col6\" class=\"data row12 col6\" >11802</td>\n",
       "      <td id=\"T_0b657_row12_col7\" class=\"data row12 col7\" >2.41%</td>\n",
       "      <td id=\"T_0b657_row12_col8\" class=\"data row12 col8\" >0.066684</td>\n",
       "    </tr>\n",
       "    <tr>\n",
       "      <th id=\"T_0b657_level0_row13\" class=\"row_heading level0 row13\" >13</th>\n",
       "      <td id=\"T_0b657_row13_col0\" class=\"data row13 col0\" >Los Angeles</td>\n",
       "      <td id=\"T_0b657_row13_col1\" class=\"data row13 col1\" >0</td>\n",
       "      <td id=\"T_0b657_row13_col2\" class=\"data row13 col2\" >5412</td>\n",
       "      <td id=\"T_0b657_row13_col3\" class=\"data row13 col3\" >52513</td>\n",
       "      <td id=\"T_0b657_row13_col4\" class=\"data row13 col4\" >10.31%</td>\n",
       "      <td id=\"T_0b657_row13_col5\" class=\"data row13 col5\" >0.103060</td>\n",
       "      <td id=\"T_0b657_row13_col6\" class=\"data row13 col6\" >52513</td>\n",
       "      <td id=\"T_0b657_row13_col7\" class=\"data row13 col7\" >0.00%</td>\n",
       "      <td id=\"T_0b657_row13_col8\" class=\"data row13 col8\" >0.000000</td>\n",
       "    </tr>\n",
       "    <tr>\n",
       "      <th id=\"T_0b657_level0_row14\" class=\"row_heading level0 row14\" >14</th>\n",
       "      <td id=\"T_0b657_row14_col0\" class=\"data row14 col0\" >Miami</td>\n",
       "      <td id=\"T_0b657_row14_col1\" class=\"data row14 col1\" >0</td>\n",
       "      <td id=\"T_0b657_row14_col2\" class=\"data row14 col2\" >412</td>\n",
       "      <td id=\"T_0b657_row14_col3\" class=\"data row14 col3\" >8301</td>\n",
       "      <td id=\"T_0b657_row14_col4\" class=\"data row14 col4\" >4.96%</td>\n",
       "      <td id=\"T_0b657_row14_col5\" class=\"data row14 col5\" >0.049633</td>\n",
       "      <td id=\"T_0b657_row14_col6\" class=\"data row14 col6\" >8301</td>\n",
       "      <td id=\"T_0b657_row14_col7\" class=\"data row14 col7\" >0.00%</td>\n",
       "      <td id=\"T_0b657_row14_col8\" class=\"data row14 col8\" >0.000000</td>\n",
       "    </tr>\n",
       "    <tr>\n",
       "      <th id=\"T_0b657_level0_row15\" class=\"row_heading level0 row15\" >15</th>\n",
       "      <td id=\"T_0b657_row15_col0\" class=\"data row15 col0\" >Miami</td>\n",
       "      <td id=\"T_0b657_row15_col1\" class=\"data row15 col1\" >1</td>\n",
       "      <td id=\"T_0b657_row15_col2\" class=\"data row15 col2\" >469</td>\n",
       "      <td id=\"T_0b657_row15_col3\" class=\"data row15 col3\" >8984</td>\n",
       "      <td id=\"T_0b657_row15_col4\" class=\"data row15 col4\" >5.22%</td>\n",
       "      <td id=\"T_0b657_row15_col5\" class=\"data row15 col5\" >0.049633</td>\n",
       "      <td id=\"T_0b657_row15_col6\" class=\"data row15 col6\" >8301</td>\n",
       "      <td id=\"T_0b657_row15_col7\" class=\"data row15 col7\" >5.18%</td>\n",
       "      <td id=\"T_0b657_row15_col8\" class=\"data row15 col8\" >0.082279</td>\n",
       "    </tr>\n",
       "    <tr>\n",
       "      <th id=\"T_0b657_level0_row16\" class=\"row_heading level0 row16\" >16</th>\n",
       "      <td id=\"T_0b657_row16_col0\" class=\"data row16 col0\" >Minneapolis</td>\n",
       "      <td id=\"T_0b657_row16_col1\" class=\"data row16 col1\" >0</td>\n",
       "      <td id=\"T_0b657_row16_col2\" class=\"data row16 col2\" >436</td>\n",
       "      <td id=\"T_0b657_row16_col3\" class=\"data row16 col3\" >8203</td>\n",
       "      <td id=\"T_0b657_row16_col4\" class=\"data row16 col4\" >5.32%</td>\n",
       "      <td id=\"T_0b657_row16_col5\" class=\"data row16 col5\" >0.053151</td>\n",
       "      <td id=\"T_0b657_row16_col6\" class=\"data row16 col6\" >8203</td>\n",
       "      <td id=\"T_0b657_row16_col7\" class=\"data row16 col7\" >0.00%</td>\n",
       "      <td id=\"T_0b657_row16_col8\" class=\"data row16 col8\" >0.000000</td>\n",
       "    </tr>\n",
       "    <tr>\n",
       "      <th id=\"T_0b657_level0_row17\" class=\"row_heading level0 row17\" >17</th>\n",
       "      <td id=\"T_0b657_row17_col0\" class=\"data row17 col0\" >Minneapolis</td>\n",
       "      <td id=\"T_0b657_row17_col1\" class=\"data row17 col1\" >1</td>\n",
       "      <td id=\"T_0b657_row17_col2\" class=\"data row17 col2\" >477</td>\n",
       "      <td id=\"T_0b657_row17_col3\" class=\"data row17 col3\" >9093</td>\n",
       "      <td id=\"T_0b657_row17_col4\" class=\"data row17 col4\" >5.25%</td>\n",
       "      <td id=\"T_0b657_row17_col5\" class=\"data row17 col5\" >0.053151</td>\n",
       "      <td id=\"T_0b657_row17_col6\" class=\"data row17 col6\" >8203</td>\n",
       "      <td id=\"T_0b657_row17_col7\" class=\"data row17 col7\" >-1.30%</td>\n",
       "      <td id=\"T_0b657_row17_col8\" class=\"data row17 col8\" >0.108497</td>\n",
       "    </tr>\n",
       "    <tr>\n",
       "      <th id=\"T_0b657_level0_row18\" class=\"row_heading level0 row18\" >18</th>\n",
       "      <td id=\"T_0b657_row18_col0\" class=\"data row18 col0\" >New York</td>\n",
       "      <td id=\"T_0b657_row18_col1\" class=\"data row18 col1\" >0</td>\n",
       "      <td id=\"T_0b657_row18_col2\" class=\"data row18 col2\" >1808</td>\n",
       "      <td id=\"T_0b657_row18_col3\" class=\"data row18 col3\" >34082</td>\n",
       "      <td id=\"T_0b657_row18_col4\" class=\"data row18 col4\" >5.30%</td>\n",
       "      <td id=\"T_0b657_row18_col5\" class=\"data row18 col5\" >0.053049</td>\n",
       "      <td id=\"T_0b657_row18_col6\" class=\"data row18 col6\" >34082</td>\n",
       "      <td id=\"T_0b657_row18_col7\" class=\"data row18 col7\" >0.00%</td>\n",
       "      <td id=\"T_0b657_row18_col8\" class=\"data row18 col8\" >0.000000</td>\n",
       "    </tr>\n",
       "    <tr>\n",
       "      <th id=\"T_0b657_level0_row19\" class=\"row_heading level0 row19\" >19</th>\n",
       "      <td id=\"T_0b657_row19_col0\" class=\"data row19 col0\" >New York</td>\n",
       "      <td id=\"T_0b657_row19_col1\" class=\"data row19 col1\" >1</td>\n",
       "      <td id=\"T_0b657_row19_col2\" class=\"data row19 col2\" >1791</td>\n",
       "      <td id=\"T_0b657_row19_col3\" class=\"data row19 col3\" >35812</td>\n",
       "      <td id=\"T_0b657_row19_col4\" class=\"data row19 col4\" >5.00%</td>\n",
       "      <td id=\"T_0b657_row19_col5\" class=\"data row19 col5\" >0.053049</td>\n",
       "      <td id=\"T_0b657_row19_col6\" class=\"data row19 col6\" >34082</td>\n",
       "      <td id=\"T_0b657_row19_col7\" class=\"data row19 col7\" >-5.73%</td>\n",
       "      <td id=\"T_0b657_row19_col8\" class=\"data row19 col8\" >0.050760</td>\n",
       "    </tr>\n",
       "    <tr>\n",
       "      <th id=\"T_0b657_level0_row20\" class=\"row_heading level0 row20\" >20</th>\n",
       "      <td id=\"T_0b657_row20_col0\" class=\"data row20 col0\" >Philadelphia</td>\n",
       "      <td id=\"T_0b657_row20_col1\" class=\"data row20 col1\" >0</td>\n",
       "      <td id=\"T_0b657_row20_col2\" class=\"data row20 col2\" >100</td>\n",
       "      <td id=\"T_0b657_row20_col3\" class=\"data row20 col3\" >4261</td>\n",
       "      <td id=\"T_0b657_row20_col4\" class=\"data row20 col4\" >2.35%</td>\n",
       "      <td id=\"T_0b657_row20_col5\" class=\"data row20 col5\" >0.023469</td>\n",
       "      <td id=\"T_0b657_row20_col6\" class=\"data row20 col6\" >4261</td>\n",
       "      <td id=\"T_0b657_row20_col7\" class=\"data row20 col7\" >0.00%</td>\n",
       "      <td id=\"T_0b657_row20_col8\" class=\"data row20 col8\" >0.000000</td>\n",
       "    </tr>\n",
       "    <tr>\n",
       "      <th id=\"T_0b657_level0_row21\" class=\"row_heading level0 row21\" >21</th>\n",
       "      <td id=\"T_0b657_row21_col0\" class=\"data row21 col0\" >Philadelphia</td>\n",
       "      <td id=\"T_0b657_row21_col1\" class=\"data row21 col1\" >1</td>\n",
       "      <td id=\"T_0b657_row21_col2\" class=\"data row21 col2\" >575</td>\n",
       "      <td id=\"T_0b657_row21_col3\" class=\"data row21 col3\" >24495</td>\n",
       "      <td id=\"T_0b657_row21_col4\" class=\"data row21 col4\" >2.35%</td>\n",
       "      <td id=\"T_0b657_row21_col5\" class=\"data row21 col5\" >0.023469</td>\n",
       "      <td id=\"T_0b657_row21_col6\" class=\"data row21 col6\" >4261</td>\n",
       "      <td id=\"T_0b657_row21_col7\" class=\"data row21 col7\" >0.02%</td>\n",
       "      <td id=\"T_0b657_row21_col8\" class=\"data row21 col8\" >4.748651</td>\n",
       "    </tr>\n",
       "    <tr>\n",
       "      <th id=\"T_0b657_level0_row22\" class=\"row_heading level0 row22\" >22</th>\n",
       "      <td id=\"T_0b657_row22_col0\" class=\"data row22 col0\" >Phoenix</td>\n",
       "      <td id=\"T_0b657_row22_col1\" class=\"data row22 col1\" >0</td>\n",
       "      <td id=\"T_0b657_row22_col2\" class=\"data row22 col2\" >500</td>\n",
       "      <td id=\"T_0b657_row22_col3\" class=\"data row22 col3\" >9317</td>\n",
       "      <td id=\"T_0b657_row22_col4\" class=\"data row22 col4\" >5.37%</td>\n",
       "      <td id=\"T_0b657_row22_col5\" class=\"data row22 col5\" >0.053665</td>\n",
       "      <td id=\"T_0b657_row22_col6\" class=\"data row22 col6\" >9317</td>\n",
       "      <td id=\"T_0b657_row22_col7\" class=\"data row22 col7\" >0.00%</td>\n",
       "      <td id=\"T_0b657_row22_col8\" class=\"data row22 col8\" >0.000000</td>\n",
       "    </tr>\n",
       "    <tr>\n",
       "      <th id=\"T_0b657_level0_row23\" class=\"row_heading level0 row23\" >23</th>\n",
       "      <td id=\"T_0b657_row23_col0\" class=\"data row23 col0\" >Phoenix</td>\n",
       "      <td id=\"T_0b657_row23_col1\" class=\"data row23 col1\" >1</td>\n",
       "      <td id=\"T_0b657_row23_col2\" class=\"data row23 col2\" >516</td>\n",
       "      <td id=\"T_0b657_row23_col3\" class=\"data row23 col3\" >10015</td>\n",
       "      <td id=\"T_0b657_row23_col4\" class=\"data row23 col4\" >5.15%</td>\n",
       "      <td id=\"T_0b657_row23_col5\" class=\"data row23 col5\" >0.053665</td>\n",
       "      <td id=\"T_0b657_row23_col6\" class=\"data row23 col6\" >9317</td>\n",
       "      <td id=\"T_0b657_row23_col7\" class=\"data row23 col7\" >-3.99%</td>\n",
       "      <td id=\"T_0b657_row23_col8\" class=\"data row23 col8\" >0.074917</td>\n",
       "    </tr>\n",
       "    <tr>\n",
       "      <th id=\"T_0b657_level0_row24\" class=\"row_heading level0 row24\" >24</th>\n",
       "      <td id=\"T_0b657_row24_col0\" class=\"data row24 col0\" >San Francisco</td>\n",
       "      <td id=\"T_0b657_row24_col1\" class=\"data row24 col1\" >0</td>\n",
       "      <td id=\"T_0b657_row24_col2\" class=\"data row24 col2\" >584</td>\n",
       "      <td id=\"T_0b657_row24_col3\" class=\"data row24 col3\" >11691</td>\n",
       "      <td id=\"T_0b657_row24_col4\" class=\"data row24 col4\" >5.00%</td>\n",
       "      <td id=\"T_0b657_row24_col5\" class=\"data row24 col5\" >0.049953</td>\n",
       "      <td id=\"T_0b657_row24_col6\" class=\"data row24 col6\" >11691</td>\n",
       "      <td id=\"T_0b657_row24_col7\" class=\"data row24 col7\" >0.00%</td>\n",
       "      <td id=\"T_0b657_row24_col8\" class=\"data row24 col8\" >0.000000</td>\n",
       "    </tr>\n",
       "    <tr>\n",
       "      <th id=\"T_0b657_level0_row25\" class=\"row_heading level0 row25\" >25</th>\n",
       "      <td id=\"T_0b657_row25_col0\" class=\"data row25 col0\" >San Francisco</td>\n",
       "      <td id=\"T_0b657_row25_col1\" class=\"data row25 col1\" >1</td>\n",
       "      <td id=\"T_0b657_row25_col2\" class=\"data row25 col2\" >626</td>\n",
       "      <td id=\"T_0b657_row25_col3\" class=\"data row25 col3\" >12609</td>\n",
       "      <td id=\"T_0b657_row25_col4\" class=\"data row25 col4\" >4.96%</td>\n",
       "      <td id=\"T_0b657_row25_col5\" class=\"data row25 col5\" >0.049953</td>\n",
       "      <td id=\"T_0b657_row25_col6\" class=\"data row25 col6\" >11691</td>\n",
       "      <td id=\"T_0b657_row25_col7\" class=\"data row25 col7\" >-0.61%</td>\n",
       "      <td id=\"T_0b657_row25_col8\" class=\"data row25 col8\" >0.078522</td>\n",
       "    </tr>\n",
       "    <tr>\n",
       "      <th id=\"T_0b657_level0_row26\" class=\"row_heading level0 row26\" >26</th>\n",
       "      <td id=\"T_0b657_row26_col0\" class=\"data row26 col0\" >Seattle</td>\n",
       "      <td id=\"T_0b657_row26_col1\" class=\"data row26 col1\" >0</td>\n",
       "      <td id=\"T_0b657_row26_col2\" class=\"data row26 col2\" >80</td>\n",
       "      <td id=\"T_0b657_row26_col3\" class=\"data row26 col3\" >2846</td>\n",
       "      <td id=\"T_0b657_row26_col4\" class=\"data row26 col4\" >2.81%</td>\n",
       "      <td id=\"T_0b657_row26_col5\" class=\"data row26 col5\" >0.028110</td>\n",
       "      <td id=\"T_0b657_row26_col6\" class=\"data row26 col6\" >2846</td>\n",
       "      <td id=\"T_0b657_row26_col7\" class=\"data row26 col7\" >0.00%</td>\n",
       "      <td id=\"T_0b657_row26_col8\" class=\"data row26 col8\" >0.000000</td>\n",
       "    </tr>\n",
       "    <tr>\n",
       "      <th id=\"T_0b657_level0_row27\" class=\"row_heading level0 row27\" >27</th>\n",
       "      <td id=\"T_0b657_row27_col0\" class=\"data row27 col0\" >Seattle</td>\n",
       "      <td id=\"T_0b657_row27_col1\" class=\"data row27 col1\" >1</td>\n",
       "      <td id=\"T_0b657_row27_col2\" class=\"data row27 col2\" >407</td>\n",
       "      <td id=\"T_0b657_row27_col3\" class=\"data row27 col3\" >15850</td>\n",
       "      <td id=\"T_0b657_row27_col4\" class=\"data row27 col4\" >2.57%</td>\n",
       "      <td id=\"T_0b657_row27_col5\" class=\"data row27 col5\" >0.028110</td>\n",
       "      <td id=\"T_0b657_row27_col6\" class=\"data row27 col6\" >2846</td>\n",
       "      <td id=\"T_0b657_row27_col7\" class=\"data row27 col7\" >-8.65%</td>\n",
       "      <td id=\"T_0b657_row27_col8\" class=\"data row27 col8\" >4.569220</td>\n",
       "    </tr>\n",
       "    <tr>\n",
       "      <th id=\"T_0b657_level0_row28\" class=\"row_heading level0 row28\" >28</th>\n",
       "      <td id=\"T_0b657_row28_col0\" class=\"data row28 col0\" >Tampa</td>\n",
       "      <td id=\"T_0b657_row28_col1\" class=\"data row28 col1\" >0</td>\n",
       "      <td id=\"T_0b657_row28_col2\" class=\"data row28 col2\" >457</td>\n",
       "      <td id=\"T_0b657_row28_col3\" class=\"data row28 col3\" >8974</td>\n",
       "      <td id=\"T_0b657_row28_col4\" class=\"data row28 col4\" >5.09%</td>\n",
       "      <td id=\"T_0b657_row28_col5\" class=\"data row28 col5\" >0.050925</td>\n",
       "      <td id=\"T_0b657_row28_col6\" class=\"data row28 col6\" >8974</td>\n",
       "      <td id=\"T_0b657_row28_col7\" class=\"data row28 col7\" >0.00%</td>\n",
       "      <td id=\"T_0b657_row28_col8\" class=\"data row28 col8\" >0.000000</td>\n",
       "    </tr>\n",
       "    <tr>\n",
       "      <th id=\"T_0b657_level0_row29\" class=\"row_heading level0 row29\" >29</th>\n",
       "      <td id=\"T_0b657_row29_col0\" class=\"data row29 col0\" >Tampa</td>\n",
       "      <td id=\"T_0b657_row29_col1\" class=\"data row29 col1\" >1</td>\n",
       "      <td id=\"T_0b657_row29_col2\" class=\"data row29 col2\" >501</td>\n",
       "      <td id=\"T_0b657_row29_col3\" class=\"data row29 col3\" >9631</td>\n",
       "      <td id=\"T_0b657_row29_col4\" class=\"data row29 col4\" >5.20%</td>\n",
       "      <td id=\"T_0b657_row29_col5\" class=\"data row29 col5\" >0.050925</td>\n",
       "      <td id=\"T_0b657_row29_col6\" class=\"data row29 col6\" >8974</td>\n",
       "      <td id=\"T_0b657_row29_col7\" class=\"data row29 col7\" >2.15%</td>\n",
       "      <td id=\"T_0b657_row29_col8\" class=\"data row29 col8\" >0.073211</td>\n",
       "    </tr>\n",
       "  </tbody>\n",
       "</table>\n"
      ],
      "text/plain": [
       "<pandas.io.formats.style.Styler at 0x7f0296961f10>"
      ]
     },
     "execution_count": 43,
     "metadata": {},
     "output_type": "execute_result"
    }
   ],
   "source": [
    "test_data_city_agg.toPandas()\\\n",
    ".style.format({'conversion': \"{:.2%}\",\n",
    "                'diff_to_base_pp': \"{:.2f} pp\",\n",
    "                'diff_to_base_perc': \"{:.2%}\"})"
   ]
  },
  {
   "cell_type": "code",
   "execution_count": 44,
   "metadata": {},
   "outputs": [
    {
     "name": "stderr",
     "output_type": "stream",
     "text": [
      "21/08/19 00:42:19 WARN TaskSetManager: Stage 120 contains a task of very large size (1433 KiB). The maximum recommended task size is 1000 KiB.\n",
      "21/08/19 00:42:19 WARN TaskSetManager: Stage 121 contains a task of very large size (3255 KiB). The maximum recommended task size is 1000 KiB.\n",
      "                                                                                \r"
     ]
    },
    {
     "data": {
      "text/html": [
       "<style type=\"text/css\">\n",
       "</style>\n",
       "<table id=\"T_1d9fa_\">\n",
       "  <thead>\n",
       "    <tr>\n",
       "      <th class=\"blank level0\" >&nbsp;</th>\n",
       "      <th class=\"col_heading level0 col0\" >city</th>\n",
       "      <th class=\"col_heading level0 col1\" >test</th>\n",
       "      <th class=\"col_heading level0 col2\" >all_userdays</th>\n",
       "      <th class=\"col_heading level0 col3\" >conversion</th>\n",
       "      <th class=\"col_heading level0 col4\" >control_group_sample_size</th>\n",
       "      <th class=\"col_heading level0 col5\" >diff_to_base_perc</th>\n",
       "      <th class=\"col_heading level0 col6\" >diff_to_base_perc_sample_size</th>\n",
       "    </tr>\n",
       "  </thead>\n",
       "  <tbody>\n",
       "    <tr>\n",
       "      <th id=\"T_1d9fa_level0_row0\" class=\"row_heading level0 row0\" >0</th>\n",
       "      <td id=\"T_1d9fa_row0_col0\" class=\"data row0 col0\" >Seattle</td>\n",
       "      <td id=\"T_1d9fa_row0_col1\" class=\"data row0 col1\" >1</td>\n",
       "      <td id=\"T_1d9fa_row0_col2\" class=\"data row0 col2\" >15850</td>\n",
       "      <td id=\"T_1d9fa_row0_col3\" class=\"data row0 col3\" >2.57%</td>\n",
       "      <td id=\"T_1d9fa_row0_col4\" class=\"data row0 col4\" >2846</td>\n",
       "      <td id=\"T_1d9fa_row0_col5\" class=\"data row0 col5\" >-8.65%</td>\n",
       "      <td id=\"T_1d9fa_row0_col6\" class=\"data row0 col6\" >456.92%</td>\n",
       "    </tr>\n",
       "    <tr>\n",
       "      <th id=\"T_1d9fa_level0_row1\" class=\"row_heading level0 row1\" >1</th>\n",
       "      <td id=\"T_1d9fa_row1_col0\" class=\"data row1 col0\" >Dallas</td>\n",
       "      <td id=\"T_1d9fa_row1_col1\" class=\"data row1 col1\" >1</td>\n",
       "      <td id=\"T_1d9fa_row1_col2\" class=\"data row1 col2\" >13807</td>\n",
       "      <td id=\"T_1d9fa_row1_col3\" class=\"data row1 col3\" >4.78%</td>\n",
       "      <td id=\"T_1d9fa_row1_col4\" class=\"data row1 col4\" >12874</td>\n",
       "      <td id=\"T_1d9fa_row1_col5\" class=\"data row1 col5\" >-6.05%</td>\n",
       "      <td id=\"T_1d9fa_row1_col6\" class=\"data row1 col6\" >7.25%</td>\n",
       "    </tr>\n",
       "    <tr>\n",
       "      <th id=\"T_1d9fa_level0_row2\" class=\"row_heading level0 row2\" >2</th>\n",
       "      <td id=\"T_1d9fa_row2_col0\" class=\"data row2 col0\" >New York</td>\n",
       "      <td id=\"T_1d9fa_row2_col1\" class=\"data row2 col1\" >1</td>\n",
       "      <td id=\"T_1d9fa_row2_col2\" class=\"data row2 col2\" >35812</td>\n",
       "      <td id=\"T_1d9fa_row2_col3\" class=\"data row2 col3\" >5.00%</td>\n",
       "      <td id=\"T_1d9fa_row2_col4\" class=\"data row2 col4\" >34082</td>\n",
       "      <td id=\"T_1d9fa_row2_col5\" class=\"data row2 col5\" >-5.73%</td>\n",
       "      <td id=\"T_1d9fa_row2_col6\" class=\"data row2 col6\" >5.08%</td>\n",
       "    </tr>\n",
       "    <tr>\n",
       "      <th id=\"T_1d9fa_level0_row3\" class=\"row_heading level0 row3\" >3</th>\n",
       "      <td id=\"T_1d9fa_row3_col0\" class=\"data row3 col0\" >Phoenix</td>\n",
       "      <td id=\"T_1d9fa_row3_col1\" class=\"data row3 col1\" >1</td>\n",
       "      <td id=\"T_1d9fa_row3_col2\" class=\"data row3 col2\" >10015</td>\n",
       "      <td id=\"T_1d9fa_row3_col3\" class=\"data row3 col3\" >5.15%</td>\n",
       "      <td id=\"T_1d9fa_row3_col4\" class=\"data row3 col4\" >9317</td>\n",
       "      <td id=\"T_1d9fa_row3_col5\" class=\"data row3 col5\" >-3.99%</td>\n",
       "      <td id=\"T_1d9fa_row3_col6\" class=\"data row3 col6\" >7.49%</td>\n",
       "    </tr>\n",
       "    <tr>\n",
       "      <th id=\"T_1d9fa_level0_row4\" class=\"row_heading level0 row4\" >4</th>\n",
       "      <td id=\"T_1d9fa_row4_col0\" class=\"data row4 col0\" >Minneapolis</td>\n",
       "      <td id=\"T_1d9fa_row4_col1\" class=\"data row4 col1\" >1</td>\n",
       "      <td id=\"T_1d9fa_row4_col2\" class=\"data row4 col2\" >9093</td>\n",
       "      <td id=\"T_1d9fa_row4_col3\" class=\"data row4 col3\" >5.25%</td>\n",
       "      <td id=\"T_1d9fa_row4_col4\" class=\"data row4 col4\" >8203</td>\n",
       "      <td id=\"T_1d9fa_row4_col5\" class=\"data row4 col5\" >-1.30%</td>\n",
       "      <td id=\"T_1d9fa_row4_col6\" class=\"data row4 col6\" >10.85%</td>\n",
       "    </tr>\n",
       "    <tr>\n",
       "      <th id=\"T_1d9fa_level0_row5\" class=\"row_heading level0 row5\" >5</th>\n",
       "      <td id=\"T_1d9fa_row5_col0\" class=\"data row5 col0\" >San Francisco</td>\n",
       "      <td id=\"T_1d9fa_row5_col1\" class=\"data row5 col1\" >1</td>\n",
       "      <td id=\"T_1d9fa_row5_col2\" class=\"data row5 col2\" >12609</td>\n",
       "      <td id=\"T_1d9fa_row5_col3\" class=\"data row5 col3\" >4.96%</td>\n",
       "      <td id=\"T_1d9fa_row5_col4\" class=\"data row5 col4\" >11691</td>\n",
       "      <td id=\"T_1d9fa_row5_col5\" class=\"data row5 col5\" >-0.61%</td>\n",
       "      <td id=\"T_1d9fa_row5_col6\" class=\"data row5 col6\" >7.85%</td>\n",
       "    </tr>\n",
       "    <tr>\n",
       "      <th id=\"T_1d9fa_level0_row6\" class=\"row_heading level0 row6\" >6</th>\n",
       "      <td id=\"T_1d9fa_row6_col0\" class=\"data row6 col0\" >Philadelphia</td>\n",
       "      <td id=\"T_1d9fa_row6_col1\" class=\"data row6 col1\" >1</td>\n",
       "      <td id=\"T_1d9fa_row6_col2\" class=\"data row6 col2\" >24495</td>\n",
       "      <td id=\"T_1d9fa_row6_col3\" class=\"data row6 col3\" >2.35%</td>\n",
       "      <td id=\"T_1d9fa_row6_col4\" class=\"data row6 col4\" >4261</td>\n",
       "      <td id=\"T_1d9fa_row6_col5\" class=\"data row6 col5\" >0.02%</td>\n",
       "      <td id=\"T_1d9fa_row6_col6\" class=\"data row6 col6\" >474.87%</td>\n",
       "    </tr>\n",
       "    <tr>\n",
       "      <th id=\"T_1d9fa_level0_row7\" class=\"row_heading level0 row7\" >7</th>\n",
       "      <td id=\"T_1d9fa_row7_col0\" class=\"data row7 col0\" >Atlanta</td>\n",
       "      <td id=\"T_1d9fa_row7_col1\" class=\"data row7 col1\" >1</td>\n",
       "      <td id=\"T_1d9fa_row7_col2\" class=\"data row7 col2\" >12599</td>\n",
       "      <td id=\"T_1d9fa_row7_col3\" class=\"data row7 col3\" >5.09%</td>\n",
       "      <td id=\"T_1d9fa_row7_col4\" class=\"data row7 col4\" >11728</td>\n",
       "      <td id=\"T_1d9fa_row7_col5\" class=\"data row7 col5\" >1.30%</td>\n",
       "      <td id=\"T_1d9fa_row7_col6\" class=\"data row7 col6\" >7.43%</td>\n",
       "    </tr>\n",
       "    <tr>\n",
       "      <th id=\"T_1d9fa_level0_row8\" class=\"row_heading level0 row8\" >8</th>\n",
       "      <td id=\"T_1d9fa_row8_col0\" class=\"data row8 col0\" >Boston</td>\n",
       "      <td id=\"T_1d9fa_row8_col1\" class=\"data row8 col1\" >1</td>\n",
       "      <td id=\"T_1d9fa_row8_col2\" class=\"data row8 col2\" >12660</td>\n",
       "      <td id=\"T_1d9fa_row8_col3\" class=\"data row8 col3\" >5.23%</td>\n",
       "      <td id=\"T_1d9fa_row8_col4\" class=\"data row8 col4\" >11758</td>\n",
       "      <td id=\"T_1d9fa_row8_col5\" class=\"data row8 col5\" >1.63%</td>\n",
       "      <td id=\"T_1d9fa_row8_col6\" class=\"data row8 col6\" >7.67%</td>\n",
       "    </tr>\n",
       "    <tr>\n",
       "      <th id=\"T_1d9fa_level0_row9\" class=\"row_heading level0 row9\" >9</th>\n",
       "      <td id=\"T_1d9fa_row9_col0\" class=\"data row9 col0\" >Tampa</td>\n",
       "      <td id=\"T_1d9fa_row9_col1\" class=\"data row9 col1\" >1</td>\n",
       "      <td id=\"T_1d9fa_row9_col2\" class=\"data row9 col2\" >9631</td>\n",
       "      <td id=\"T_1d9fa_row9_col3\" class=\"data row9 col3\" >5.20%</td>\n",
       "      <td id=\"T_1d9fa_row9_col4\" class=\"data row9 col4\" >8974</td>\n",
       "      <td id=\"T_1d9fa_row9_col5\" class=\"data row9 col5\" >2.15%</td>\n",
       "      <td id=\"T_1d9fa_row9_col6\" class=\"data row9 col6\" >7.32%</td>\n",
       "    </tr>\n",
       "    <tr>\n",
       "      <th id=\"T_1d9fa_level0_row10\" class=\"row_heading level0 row10\" >10</th>\n",
       "      <td id=\"T_1d9fa_row10_col0\" class=\"data row10 col0\" >Houston</td>\n",
       "      <td id=\"T_1d9fa_row10_col1\" class=\"data row10 col1\" >1</td>\n",
       "      <td id=\"T_1d9fa_row10_col2\" class=\"data row10 col2\" >12589</td>\n",
       "      <td id=\"T_1d9fa_row10_col3\" class=\"data row10 col3\" >5.26%</td>\n",
       "      <td id=\"T_1d9fa_row10_col4\" class=\"data row10 col4\" >11802</td>\n",
       "      <td id=\"T_1d9fa_row10_col5\" class=\"data row10 col5\" >2.41%</td>\n",
       "      <td id=\"T_1d9fa_row10_col6\" class=\"data row10 col6\" >6.67%</td>\n",
       "    </tr>\n",
       "    <tr>\n",
       "      <th id=\"T_1d9fa_level0_row11\" class=\"row_heading level0 row11\" >11</th>\n",
       "      <td id=\"T_1d9fa_row11_col0\" class=\"data row11 col0\" >Chicago</td>\n",
       "      <td id=\"T_1d9fa_row11_col1\" class=\"data row11 col1\" >1</td>\n",
       "      <td id=\"T_1d9fa_row11_col2\" class=\"data row11 col2\" >16991</td>\n",
       "      <td id=\"T_1d9fa_row11_col3\" class=\"data row11 col3\" >5.17%</td>\n",
       "      <td id=\"T_1d9fa_row11_col4\" class=\"data row11 col4\" >16054</td>\n",
       "      <td id=\"T_1d9fa_row11_col5\" class=\"data row11 col5\" >4.48%</td>\n",
       "      <td id=\"T_1d9fa_row11_col6\" class=\"data row11 col6\" >5.84%</td>\n",
       "    </tr>\n",
       "    <tr>\n",
       "      <th id=\"T_1d9fa_level0_row12\" class=\"row_heading level0 row12\" >12</th>\n",
       "      <td id=\"T_1d9fa_row12_col0\" class=\"data row12 col0\" >Miami</td>\n",
       "      <td id=\"T_1d9fa_row12_col1\" class=\"data row12 col1\" >1</td>\n",
       "      <td id=\"T_1d9fa_row12_col2\" class=\"data row12 col2\" >8984</td>\n",
       "      <td id=\"T_1d9fa_row12_col3\" class=\"data row12 col3\" >5.22%</td>\n",
       "      <td id=\"T_1d9fa_row12_col4\" class=\"data row12 col4\" >8301</td>\n",
       "      <td id=\"T_1d9fa_row12_col5\" class=\"data row12 col5\" >5.18%</td>\n",
       "      <td id=\"T_1d9fa_row12_col6\" class=\"data row12 col6\" >8.23%</td>\n",
       "    </tr>\n",
       "    <tr>\n",
       "      <th id=\"T_1d9fa_level0_row13\" class=\"row_heading level0 row13\" >13</th>\n",
       "      <td id=\"T_1d9fa_row13_col0\" class=\"data row13 col0\" >Detroit</td>\n",
       "      <td id=\"T_1d9fa_row13_col1\" class=\"data row13 col1\" >1</td>\n",
       "      <td id=\"T_1d9fa_row13_col2\" class=\"data row13 col2\" >9192</td>\n",
       "      <td id=\"T_1d9fa_row13_col3\" class=\"data row13 col3\" >5.32%</td>\n",
       "      <td id=\"T_1d9fa_row13_col4\" class=\"data row13 col4\" >8739</td>\n",
       "      <td id=\"T_1d9fa_row13_col5\" class=\"data row13 col5\" >13.39%</td>\n",
       "      <td id=\"T_1d9fa_row13_col6\" class=\"data row13 col6\" >5.18%</td>\n",
       "    </tr>\n",
       "  </tbody>\n",
       "</table>\n"
      ],
      "text/plain": [
       "<pandas.io.formats.style.Styler at 0x7f02969c9640>"
      ]
     },
     "execution_count": 44,
     "metadata": {},
     "output_type": "execute_result"
    }
   ],
   "source": [
    "(test_data_city_agg\n",
    " .where(f.col('test') == 1)\n",
    " .drop('control_group_value', 'watched')\n",
    " .orderBy('diff_to_base_perc')\n",
    " .toPandas()\n",
    " .style.format({'conversion': \"{:.2%}\",\n",
    "                'diff_to_base_pp': \"{:.2f} pp\",\n",
    "                'diff_to_base_perc': \"{:.2%}\",\n",
    "                'diff_to_base_perc_sample_size': \"{:.2%}\"})\n",
    ")"
   ]
  },
  {
   "cell_type": "markdown",
   "metadata": {},
   "source": [
    "### Answer 2a: Commercials with local Mayors may help but this is highly dependent on city. It may be that cities with negative results have unpopular Mayors (just assumption).\n",
    "As we can see there is huge misrepresentation for 3 cities and this probably causes the difference:\n",
    "- Los Angeles (missing in test group)\n",
    "- Seattle (overrepresentation in test group)\n",
    "- Philadelphia (overrepresentation in test group)\n",
    "\n",
    "#### Let's perform test once again without cities mentioned above."
   ]
  },
  {
   "cell_type": "code",
   "execution_count": 45,
   "metadata": {},
   "outputs": [],
   "source": [
    "window_spec = (Window\n",
    "               .orderBy('test')\n",
    "              )\n",
    "test_data_agg_v2 = (test_data_with_viewer_df\n",
    "                    .where(~f.col('city').isin('Philadelphia', 'Los Angeles', 'Seattle'))\n",
    "                    .groupBy('test')\n",
    "                    .agg(f.sum(f.col('watched')).alias('watched'),\n",
    "                         f.count('*').alias('all_userdays')\n",
    "                        )\n",
    "                    .withColumn('conversion', f.col('watched')/f.col('all_userdays'))\n",
    "                    .withColumn('control_group_value', f.first(f.col('conversion')).over(window_spec))\n",
    "                    .withColumn('diff_to_base_pp', 100*(f.col('conversion') - f.col('control_group_value')))\n",
    "                    .withColumn('diff_to_base_perc', (f.col('conversion') - f.col('control_group_value'))/f.col('control_group_value'))\n",
    "                )"
   ]
  },
  {
   "cell_type": "code",
   "execution_count": 46,
   "metadata": {},
   "outputs": [],
   "source": [
    "test_data_agg_chi_v2 = (test_data_agg_v2\n",
    "                        .withColumn('not_watched', f.col('all_userdays')-f.col('watched'))\n",
    "                       )"
   ]
  },
  {
   "cell_type": "code",
   "execution_count": 47,
   "metadata": {},
   "outputs": [
    {
     "name": "stderr",
     "output_type": "stream",
     "text": [
      "21/08/19 00:42:23 WARN WindowExec: No Partition Defined for Window operation! Moving all data to a single partition, this can cause serious performance degradation.\n",
      "21/08/19 00:42:23 WARN TaskSetManager: Stage 131 contains a task of very large size (1433 KiB). The maximum recommended task size is 1000 KiB.\n",
      "21/08/19 00:42:23 WARN TaskSetManager: Stage 132 contains a task of very large size (3255 KiB). The maximum recommended task size is 1000 KiB.\n",
      "21/08/19 00:42:25 WARN WindowExec: No Partition Defined for Window operation! Moving all data to a single partition, this can cause serious performance degradation.\n",
      "21/08/19 00:42:25 WARN TaskSetManager: Stage 136 contains a task of very large size (3255 KiB). The maximum recommended task size is 1000 KiB.\n",
      "21/08/19 00:42:26 WARN TaskSetManager: Stage 137 contains a task of very large size (1433 KiB). The maximum recommended task size is 1000 KiB.\n",
      "21/08/19 00:42:28 WARN WindowExec: No Partition Defined for Window operation! Moving all data to a single partition, this can cause serious performance degradation.\n",
      "21/08/19 00:42:28 WARN TaskSetManager: Stage 141 contains a task of very large size (3255 KiB). The maximum recommended task size is 1000 KiB.\n",
      "21/08/19 00:42:29 WARN TaskSetManager: Stage 142 contains a task of very large size (1433 KiB). The maximum recommended task size is 1000 KiB.\n",
      "21/08/19 00:42:30 WARN WindowExec: No Partition Defined for Window operation! Moving all data to a single partition, this can cause serious performance degradation.\n",
      "21/08/19 00:42:30 WARN TaskSetManager: Stage 146 contains a task of very large size (3255 KiB). The maximum recommended task size is 1000 KiB.\n"
     ]
    },
    {
     "name": "stdout",
     "output_type": "stream",
     "text": [
      "sample_size: 153523  metric_avg: 0.05117148570572488\n",
      "get_minimum_detectable_impact: 0.05602623265979933\n"
     ]
    },
    {
     "name": "stderr",
     "output_type": "stream",
     "text": [
      "21/08/19 00:42:31 WARN TaskSetManager: Stage 147 contains a task of very large size (1433 KiB). The maximum recommended task size is 1000 KiB.\n",
      "21/08/19 00:42:33 WARN WindowExec: No Partition Defined for Window operation! Moving all data to a single partition, this can cause serious performance degradation.\n",
      "21/08/19 00:42:33 WARN TaskSetManager: Stage 151 contains a task of very large size (3255 KiB). The maximum recommended task size is 1000 KiB.\n",
      "21/08/19 00:42:33 WARN TaskSetManager: Stage 152 contains a task of very large size (1433 KiB). The maximum recommended task size is 1000 KiB.\n",
      "21/08/19 00:42:35 WARN WindowExec: No Partition Defined for Window operation! Moving all data to a single partition, this can cause serious performance degradation.\n",
      "21/08/19 00:42:35 WARN TaskSetManager: Stage 156 contains a task of very large size (1433 KiB). The maximum recommended task size is 1000 KiB.\n",
      "21/08/19 00:42:35 WARN TaskSetManager: Stage 157 contains a task of very large size (3255 KiB). The maximum recommended task size is 1000 KiB.\n",
      "21/08/19 00:42:37 WARN TaskSetManager: Stage 161 contains a task of very large size (3255 KiB). The maximum recommended task size is 1000 KiB.\n",
      "21/08/19 00:42:38 WARN TaskSetManager: Stage 162 contains a task of very large size (1433 KiB). The maximum recommended task size is 1000 KiB.\n",
      "                                                                                \r"
     ]
    }
   ],
   "source": [
    "result_pd_v2 = getStats(df=test_data_agg_chi_v2.drop('control_group_value'),\n",
    "                     cols=cols_chi,\n",
    "                     alfa = 0.05\n",
    "                    )"
   ]
  },
  {
   "cell_type": "code",
   "execution_count": 48,
   "metadata": {},
   "outputs": [
    {
     "data": {
      "text/html": [
       "<style type=\"text/css\">\n",
       "</style>\n",
       "<table id=\"T_f914d_\">\n",
       "  <caption>Local mayor ad conversion</caption>\n",
       "  <thead>\n",
       "    <tr>\n",
       "      <th class=\"blank level0\" >&nbsp;</th>\n",
       "      <th class=\"col_heading level0 col0\" >all_userdays</th>\n",
       "      <th class=\"col_heading level0 col1\" >conversion</th>\n",
       "      <th class=\"col_heading level0 col2\" >diff_to_base_pp</th>\n",
       "      <th class=\"col_heading level0 col3\" >diff_to_base_perc</th>\n",
       "      <th class=\"col_heading level0 col4\" >significant</th>\n",
       "    </tr>\n",
       "    <tr>\n",
       "      <th class=\"index_name level0\" >test</th>\n",
       "      <th class=\"blank col0\" >&nbsp;</th>\n",
       "      <th class=\"blank col1\" >&nbsp;</th>\n",
       "      <th class=\"blank col2\" >&nbsp;</th>\n",
       "      <th class=\"blank col3\" >&nbsp;</th>\n",
       "      <th class=\"blank col4\" >&nbsp;</th>\n",
       "    </tr>\n",
       "  </thead>\n",
       "  <tbody>\n",
       "    <tr>\n",
       "      <th id=\"T_f914d_level0_row0\" class=\"row_heading level0 row0\" >0</th>\n",
       "      <td id=\"T_f914d_row0_col0\" class=\"data row0 col0\" >153523</td>\n",
       "      <td id=\"T_f914d_row0_col1\" class=\"data row0 col1\" >5.12%</td>\n",
       "      <td id=\"T_f914d_row0_col2\" class=\"data row0 col2\" >0.00 pp</td>\n",
       "      <td id=\"T_f914d_row0_col3\" class=\"data row0 col3\" >0.00%</td>\n",
       "      <td id=\"T_f914d_row0_col4\" class=\"data row0 col4\" >False</td>\n",
       "    </tr>\n",
       "    <tr>\n",
       "      <th id=\"T_f914d_level0_row1\" class=\"row_heading level0 row1\" >1</th>\n",
       "      <td id=\"T_f914d_row1_col0\" class=\"data row1 col0\" >163982</td>\n",
       "      <td id=\"T_f914d_row1_col1\" class=\"data row1 col1\" >5.11%</td>\n",
       "      <td id=\"T_f914d_row1_col2\" class=\"data row1 col2\" >-0.01 pp</td>\n",
       "      <td id=\"T_f914d_row1_col3\" class=\"data row1 col3\" >-0.23%</td>\n",
       "      <td id=\"T_f914d_row1_col4\" class=\"data row1 col4\" >False</td>\n",
       "    </tr>\n",
       "  </tbody>\n",
       "</table>\n"
      ],
      "text/plain": [
       "<pandas.io.formats.style.Styler at 0x7f02969c9220>"
      ]
     },
     "execution_count": 48,
     "metadata": {},
     "output_type": "execute_result"
    }
   ],
   "source": [
    "(result_pd_v2[['all_userdays', 'conversion', 'diff_to_base_pp', 'diff_to_base_perc', 'significant']]\n",
    ".style.format({'conversion': \"{:.2%}\",'diff_to_base_pp': \"{:.2f} pp\",'diff_to_base_perc': \"{:.2%}\"})\n",
    ").set_caption('Local mayor ad conversion') "
   ]
  },
  {
   "cell_type": "markdown",
   "metadata": {},
   "source": [
    "### Answer 2b: As we can see, removal of unevenly distributed cities shows there is no difference. Therefore we can blame uneven distribution for observed differences."
   ]
  },
  {
   "cell_type": "markdown",
   "metadata": {},
   "source": [
    "### 3. If you found something wrong with the experiment, write pseudocode for an algorithm that returns FALSE if that problem happens again in the future and TRUE otherwise.  This must be either implemented as a function or written as pseudocode.\n",
    "\n",
    "### If you didn’t find anything wrong with the experiment, what is your recommendation to the Executive Producer of “US Politics This Week” regarding whether or not they should continue airing the new commercials?"
   ]
  },
  {
   "cell_type": "markdown",
   "metadata": {},
   "source": [
    "- I spotted difference in samples of cities but let's assume we want to check if also other features were evenly distributed."
   ]
  },
  {
   "cell_type": "code",
   "execution_count": 49,
   "metadata": {},
   "outputs": [],
   "source": [
    "def check_if_even_distribution(df, features, experiment_variants_number, accepted_threshold):\n",
    "    diffs_list = []\n",
    "    \n",
    "    for feature in features:\n",
    "        \n",
    "        window_spec_check = Window.partitionBy(feature).orderBy('test')\n",
    "        \n",
    "        # for difference in count between variants\n",
    "        diff_count = (df\n",
    "                      .where(f.col(feature).isNotNull())\n",
    "                      .groupBy(feature, 'test')\n",
    "                      .agg(f.count('*').alias('count'))\n",
    "                      .withColumn('first_variant_count', f.first(f.col('count')).over(window_spec_check))\n",
    "                      .withColumn('diff_to_first', f.abs(f.col('count') - f.col('first_variant_count')) /\n",
    "                                  f.col('first_variant_count'))\n",
    "                      .withColumn('unevenly_distributed', f.col('diff_to_first') > accepted_threshold)\n",
    "                      .where(f.col('unevenly_distributed'))\n",
    "                      .count()\n",
    "                     )\n",
    "        diffs_list.append(diff_count)\n",
    "        \n",
    "        # for lack of this variant of the feature (e.g. triggers on Los Angeles not being in control group)\n",
    "        variants_missed = (df\n",
    "                           .where(f.col(feature).isNotNull())\n",
    "                           .groupBy(feature)\n",
    "                           .agg(f.countDistinct(f.col('test')).alias('variants_cnt'))\n",
    "                           .where(f.col('variants_cnt') < experiment_variants_number)\n",
    "                          ).count()\n",
    "        diffs_list.append(variants_missed)\n",
    "    return sum(diffs_list) == 0"
   ]
  },
  {
   "cell_type": "code",
   "execution_count": 50,
   "metadata": {},
   "outputs": [
    {
     "name": "stderr",
     "output_type": "stream",
     "text": [
      "21/08/19 00:42:40 WARN TaskSetManager: Stage 181 contains a task of very large size (3255 KiB). The maximum recommended task size is 1000 KiB.\n",
      "21/08/19 00:42:40 WARN TaskSetManager: Stage 182 contains a task of very large size (1433 KiB). The maximum recommended task size is 1000 KiB.\n",
      "21/08/19 00:42:43 WARN TaskSetManager: Stage 187 contains a task of very large size (3255 KiB). The maximum recommended task size is 1000 KiB.\n",
      "21/08/19 00:42:44 WARN TaskSetManager: Stage 188 contains a task of very large size (1433 KiB). The maximum recommended task size is 1000 KiB.\n",
      "21/08/19 00:42:47 WARN TaskSetManager: Stage 193 contains a task of very large size (1433 KiB). The maximum recommended task size is 1000 KiB.\n",
      "21/08/19 00:42:47 WARN TaskSetManager: Stage 194 contains a task of very large size (3255 KiB). The maximum recommended task size is 1000 KiB.\n",
      "21/08/19 00:42:51 WARN TaskSetManager: Stage 199 contains a task of very large size (3255 KiB). The maximum recommended task size is 1000 KiB.\n",
      "21/08/19 00:42:51 WARN TaskSetManager: Stage 200 contains a task of very large size (1433 KiB). The maximum recommended task size is 1000 KiB.\n",
      "21/08/19 00:42:54 WARN TaskSetManager: Stage 205 contains a task of very large size (3255 KiB). The maximum recommended task size is 1000 KiB.\n",
      "21/08/19 00:42:55 WARN TaskSetManager: Stage 206 contains a task of very large size (1433 KiB). The maximum recommended task size is 1000 KiB.\n",
      "21/08/19 00:42:58 WARN TaskSetManager: Stage 211 contains a task of very large size (3255 KiB). The maximum recommended task size is 1000 KiB.\n",
      "21/08/19 00:42:58 WARN TaskSetManager: Stage 212 contains a task of very large size (1433 KiB). The maximum recommended task size is 1000 KiB.\n",
      "                                                                                \r"
     ]
    },
    {
     "data": {
      "text/plain": [
       "False"
      ]
     },
     "execution_count": 50,
     "metadata": {},
     "output_type": "execute_result"
    }
   ],
   "source": [
    "# should return False\n",
    "check_if_even_distribution(df=test_data_with_viewer_df,\n",
    "                           features=test_data_with_viewer_df.columns[-3:],\n",
    "                           experiment_variants_number = 2,\n",
    "                           accepted_threshold = 0.1\n",
    "                          )"
   ]
  },
  {
   "cell_type": "code",
   "execution_count": 51,
   "metadata": {},
   "outputs": [
    {
     "name": "stderr",
     "output_type": "stream",
     "text": [
      "21/08/19 00:43:00 WARN TaskSetManager: Stage 217 contains a task of very large size (1433 KiB). The maximum recommended task size is 1000 KiB.\n",
      "21/08/19 00:43:01 WARN TaskSetManager: Stage 218 contains a task of very large size (3255 KiB). The maximum recommended task size is 1000 KiB.\n",
      "21/08/19 00:43:03 WARN TaskSetManager: Stage 223 contains a task of very large size (1433 KiB). The maximum recommended task size is 1000 KiB.\n",
      "21/08/19 00:43:04 WARN TaskSetManager: Stage 224 contains a task of very large size (3255 KiB). The maximum recommended task size is 1000 KiB.\n",
      "                                                                                \r"
     ]
    },
    {
     "data": {
      "text/plain": [
       "True"
      ]
     },
     "execution_count": 51,
     "metadata": {},
     "output_type": "execute_result"
    }
   ],
   "source": [
    "# should return True\n",
    "test_data_with_viewer_clean_df = (test_data_with_viewer_df\n",
    "                                  .where(~f.col('city').isin('Philadelphia', 'Los Angeles', 'Seattle', 'Minneapolis'))\n",
    "                                 )\n",
    "\n",
    "check_if_even_distribution(df=test_data_with_viewer_clean_df,\n",
    "                           features=['city'],\n",
    "                           experiment_variants_number = 2,\n",
    "                           accepted_threshold = 0.1\n",
    "                          )"
   ]
  },
  {
   "cell_type": "markdown",
   "metadata": {},
   "source": [
    "#### Answer 3: The above function returns False if samples are unevenly distributed and True if samples are in similar shape.\n",
    "\n",
    "Can be used for:\n",
    "- predefined column names\n",
    "- all number of variants (also multi-varaite expeeriments)\n",
    "- different levels of sample size difference acceptance"
   ]
  },
  {
   "cell_type": "code",
   "execution_count": null,
   "metadata": {},
   "outputs": [],
   "source": []
  }
 ],
 "metadata": {
  "kernelspec": {
   "display_name": "Python 3 (ipykernel)",
   "language": "python",
   "name": "python3"
  },
  "language_info": {
   "codemirror_mode": {
    "name": "ipython",
    "version": 3
   },
   "file_extension": ".py",
   "mimetype": "text/x-python",
   "name": "python",
   "nbconvert_exporter": "python",
   "pygments_lexer": "ipython3",
   "version": "3.8.10"
  }
 },
 "nbformat": 4,
 "nbformat_minor": 2
}
